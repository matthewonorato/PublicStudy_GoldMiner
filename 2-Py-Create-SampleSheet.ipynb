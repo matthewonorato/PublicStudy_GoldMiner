{
 "cells": [
  {
   "cell_type": "markdown",
   "id": "81f1122d-fcf5-4716-b6ae-67aa6181ecb6",
   "metadata": {
    "editable": true,
    "slideshow": {
     "slide_type": ""
    },
    "tags": []
   },
   "source": [
    "# Goals\n",
    "**[Script]** Select GEO studies from the intitial batch based on favorable study traits:\n",
    "- **Sufficiently powered (n>4 per group)**\n",
    "- **Control/Normal/Healthy samples**\n",
    "- **Sufficient sequencing depth (check spots)**\n",
    "- **Correct species, tissue/cell type, and data type**\n",
    "\n",
    "**[Selected studies]:** GSE1, GSE2\n",
    "- **GSE1:**"
   ]
  },
  {
   "cell_type": "markdown",
   "id": "16183fd8-8c15-4ebb-aa15-c04e9a4f57f0",
   "metadata": {},
   "source": [
    "# Packages"
   ]
  },
  {
   "cell_type": "code",
   "execution_count": 2,
   "id": "0b748716-39ef-4d48-9a4c-fb199e776998",
   "metadata": {},
   "outputs": [],
   "source": [
    "#########################\n",
    "### Standard Library ####\n",
    "#########################\n",
    "import os\n",
    "import re\n",
    "import sys\n",
    "import json\n",
    "import math\n",
    "import warnings\n",
    "import subprocess\n",
    "from glob import glob\n",
    "from datetime import datetime\n",
    "from concurrent.futures import ThreadPoolExecutor\n",
    "\n",
    "#####################\n",
    "### Data Cleaning ###\n",
    "#####################\n",
    "import numpy as np\n",
    "import pandas as pd\n",
    "import janitor as jn\n",
    "import VinlandPy as vp\n",
    "\n",
    "###################\n",
    "### Public Data ###\n",
    "###################\n",
    "import ffq\n",
    "import GEOparse\n",
    "from pysradb.sraweb import SRAweb\n",
    "\n",
    "####################\n",
    "### Session Info ###\n",
    "####################\n",
    "import session_info"
   ]
  },
  {
   "cell_type": "markdown",
   "id": "e0f43b6f-e281-44b5-b8e4-de8eee4d9820",
   "metadata": {},
   "source": [
    "## Options"
   ]
  },
  {
   "cell_type": "code",
   "execution_count": null,
   "id": "f42f80cd-e57e-4c9f-9202-f66afb848048",
   "metadata": {},
   "outputs": [],
   "source": [
    "warnings.simplefilter(action=\"once\", category=Warning)\n",
    "\n",
    "pd.options.display.max_columns = 200\n",
    "pd.options.display.max_colwidth = 100\n",
    "pd.options.display.max_rows = 200"
   ]
  },
  {
   "cell_type": "markdown",
   "id": "bcc7d23d-6aa4-4bd7-beba-99a106199fe8",
   "metadata": {},
   "source": [
    "## Functions"
   ]
  },
  {
   "cell_type": "code",
   "execution_count": null,
   "id": "c6a8a856-ded4-4b7c-a332-87a4c52b171a",
   "metadata": {},
   "outputs": [],
   "source": []
  },
  {
   "cell_type": "markdown",
   "id": "d7917d32-960f-47c9-8e0a-8b2c91e0f9a4",
   "metadata": {},
   "source": [
    "# Parameters"
   ]
  },
  {
   "cell_type": "markdown",
   "id": "1d095ffd-9649-4a58-98b6-18f239fbbefe",
   "metadata": {},
   "source": [
    "## Inputs"
   ]
  },
  {
   "cell_type": "code",
   "execution_count": null,
   "id": "8f52d931-217f-4fb8-95cf-cbb5e4cb8929",
   "metadata": {},
   "outputs": [],
   "source": [
    "genome_build = \"GRCh38\"\n",
    "release_version = \"ensembl.111\"\n",
    "geo_id = \"GSE165322\"\n",
    "\n",
    "r1_suffix = \"_1\"  # _1.fastq.gz\n",
    "r2_suffix = \"_2\"  # _2.fastq.gz\n",
    "\n",
    "n_threads = vp.set_threads()\n",
    "salmon_index_path = \"/mnt/disks/resources/data/references/outputs/Homo_sapiens/ensembl/111/salmon_index\""
   ]
  },
  {
   "cell_type": "markdown",
   "id": "9c448a41-fe1a-4c25-86ae-8f13a2c510c1",
   "metadata": {},
   "source": [
    "## Outputs"
   ]
  },
  {
   "cell_type": "code",
   "execution_count": null,
   "id": "4b85cb33-6653-4e27-9360-c03f8e446742",
   "metadata": {},
   "outputs": [],
   "source": [
    "input_path = vp.create_dir(\"../../inputs\")\n",
    "output_path = vp.create_dir(\"../../outputs\")\n",
    "results_path = vp.create_dir(\"../../results\")\n",
    "\n",
    "gse_path = vp.create_dir(os.path.join(input_path, geo_id))"
   ]
  },
  {
   "cell_type": "markdown",
   "id": "86e3f5a5-c48c-4414-b594-9e43c4b46d08",
   "metadata": {},
   "source": [
    "# Clean metadata\n",
    "- Each study has a base set of columns to keep plus some additional columns we may want to add\n",
    "- **Note:** Clean each study one at a time to ensure all desired metadata is collected"
   ]
  },
  {
   "cell_type": "code",
   "execution_count": null,
   "id": "a26bced3-b3b8-4d1f-bf1e-2df98411c9c5",
   "metadata": {},
   "outputs": [],
   "source": [
    "gse = GEOparse.get_GEO(geo=geo_id, destdir=gse_path, include_data=False, how=\"full\", annotate_gpl=False, silent=True)\n",
    "df_geo = gse.phenotype_data  # sample_ids = gse.gsms.keys(), sra_link = gse.relations\n",
    "\n",
    "geo_file = os.path.join(gse_path, f\"{geo_id}_geo_metadata.csv\")\n",
    "vp.write_file(df_geo, geo_file)\n",
    "\n",
    "base_cols_to_keep = [\"series_id\",\"geo_accession\",\"organism_ch1\",\"taxid_ch1\",\"title\",\"source_name_ch1\",\n",
    "                     \"description\",\"type\",\"molecule_ch1\",\"instrument_model\",\"platform_id\",\n",
    "                     \"library_selection\",\"library_source\",\"library_strategy\"]\n",
    "\n",
    "vp.print_dims(df_geo.reorder_columns(base_cols_to_keep), show_rows=(None, 1))"
   ]
  },
  {
   "cell_type": "code",
   "execution_count": null,
   "id": "307bb7c5-17cc-48aa-9a1d-a5e4d036d50a",
   "metadata": {},
   "outputs": [],
   "source": [
    "cols_to_add = [\"new_col\"]\n",
    "df_geo_clean = df_geo[base_cols_to_keep+cols_to_add]\n",
    "df_geo_clean = df_geo_clean.move(source=cols_to_add, target=\"taxid_ch1\", position=\"after\", axis=1)\n",
    "\n",
    "df_geo_clean = df_geo_clean.clean_names()\n",
    "chars_to_rm = \"characteristics_ch[0-9]_[0-9]_|_ch[0-9]\"\n",
    "df_geo_clean.columns = df_geo_clean.columns.str.replace(chars_to_rm, \"\", regex=True)\n",
    "\n",
    "vp.print_dims(df_geo_clean, show_rows=(None, 1))"
   ]
  },
  {
   "cell_type": "markdown",
   "id": "6e13e540-76e1-4b45-a121-cc837de0c486",
   "metadata": {},
   "source": [
    "# Add metadata\n",
    "- **Note:** `ffq` has access to all GEO/SRA/EMBL/DDBJ/ENCODE files"
   ]
  },
  {
   "cell_type": "markdown",
   "id": "78403334-be65-4c10-9004-73619f59070c",
   "metadata": {},
   "source": [
    "## `ffq`"
   ]
  },
  {
   "cell_type": "code",
   "execution_count": null,
   "id": "f1adfdbd-d14a-4ed2-8a9e-afd2a9f4c5c4",
   "metadata": {},
   "outputs": [],
   "source": [
    "# Get sample metadata in nested JSON format using ffq\n",
    "ffq_file = os.path.join(gse_path, f\"{geo_id}_ffq_metadata.json\")\n",
    "cmd_ffq = f\"ffq -o {ffq_file} {geo_id}\"\n",
    "res_ffq = vp.run_cmd(cmd_ffq)"
   ]
  },
  {
   "cell_type": "code",
   "execution_count": null,
   "id": "a952148f-23c3-4a3f-b49f-2010b419d31d",
   "metadata": {},
   "outputs": [],
   "source": [
    "# Parse JSON for relevant info using jq\n",
    "cmd_jq_ids = f\"cat {ffq_file} | jq -r '.{geo_id}.geo_samples | keys[]'\"\n",
    "geo_ids = vp.run_cmd(cmd_jq_ids).stdout.split(\"\\n\")[:-1]\n",
    "\n",
    "cmd_jq_url = f\"cat {ffq_file} | jq -r '.{geo_id}.geo_samples[].samples[].experiments[].runs[].files.ftp[].url'\"\n",
    "geo_url = vp.run_cmd(cmd_jq_url).stdout.split(\"\\n\")[:-1]\n",
    "\n",
    "cmd_jq_md5 = f\"cat {ffq_file} | jq -r '.{geo_id}.geo_samples[].samples[].experiments[].runs[].files.ftp[].md5'\"\n",
    "geo_md5_in = vp.run_cmd(cmd_jq_md5).stdout.split(\"\\n\")[:-1]"
   ]
  },
  {
   "cell_type": "markdown",
   "id": "23d4d497-34c0-4040-953d-90f893ddfc68",
   "metadata": {},
   "source": [
    "## `pysradb`\n",
    "- **Note:** The GEO sample IDs do not have a dedicated column, and can be found in weird places"
   ]
  },
  {
   "cell_type": "code",
   "execution_count": null,
   "id": "ffb2b06a-833c-4809-9616-7a0060c620eb",
   "metadata": {},
   "outputs": [],
   "source": [
    "db = SRAweb()\n",
    "sra_id = db.gse_to_srp(geo_id)[\"study_accession\"][0]\n",
    "df_sra = db.sra_metadata(sra_id, sample_attribute=True, detailed=True, expand_sample_attributes=True, output_read_lengths=True)\n",
    "\n",
    "sra_file = os.path.join(gse_path, f\"{geo_id}_sra_metadata.json\")\n",
    "vp.write_file(df_sra, sra_file)\n",
    "\n",
    "sra_base_cols_to_keep = [\"study_accession\", \"run_accession\", \"library_layout\", \"run_total_spots\", \"run_total_bases\"]\n",
    "\n",
    "vp.print_dims(df_sra.reorder_columns(sra_base_cols_to_keep), show_rows=(None, 1))"
   ]
  },
  {
   "cell_type": "code",
   "execution_count": null,
   "id": "743236bc-c4de-4df8-8f3c-94566b7fee5b",
   "metadata": {},
   "outputs": [],
   "source": [
    "sra_cols_to_add = [\"new_col\"]\n",
    "df_sra_clean = df_sra[sra_cols_to_add+sra_base_cols_to_keep]\n",
    "df_sra_clean = df_sra_clean.clean_names().rename(columns={\"new_col\": \"geo_accession\"})\n",
    "vp.print_dims(df_sra_clean, show_rows=(None, 1))"
   ]
  },
  {
   "cell_type": "markdown",
   "id": "73bb1281-2526-4a8a-af2e-7bea9624dd0f",
   "metadata": {},
   "source": [
    "# Select samples to download"
   ]
  },
  {
   "cell_type": "code",
   "execution_count": null,
   "id": "ba4872d1-6d89-46f1-b6e0-3c500adee00e",
   "metadata": {},
   "outputs": [],
   "source": [
    "samples_to_keep = [\"\"]  # Ex: cell_type, tissue_type, genotype, etc."
   ]
  },
  {
   "cell_type": "markdown",
   "id": "b4154f48-31d8-47e8-a8e9-e6b7f0d4933f",
   "metadata": {},
   "source": [
    "# Create sample sheet"
   ]
  },
  {
   "cell_type": "code",
   "execution_count": null,
   "id": "801307c5-3210-41a1-ab73-b1890fa392b2",
   "metadata": {},
   "outputs": [],
   "source": [
    "read_ends = df_sra.library_layout.str.lower().unique()[0]\n",
    "\n",
    "if read_ends==\"single\":\n",
    "    r1_url = geo_url\n",
    "    r2_url = None\n",
    "    r1_md5_in = geo_md5_in\n",
    "    r2_md5_in = None\n",
    "    print(\"single-end reads\")\n",
    "\n",
    "if read_ends==\"paired\":\n",
    "    url_md5_dict = dict(zip(geo_url, geo_md5_in))\n",
    "    r1_url = [url for url in list(url_md5_dict.keys()) if r1_suffix in url]\n",
    "    r2_url = [url for url in list(url_md5_dict.keys()) if r2_suffix in url]\n",
    "    r1_md5_in = [url_md5_dict.get(url) for url in r1_url]\n",
    "    r2_md5_in = [url_md5_dict.get(url) for url in r2_url]\n",
    "    print(\"paired-end reads\")"
   ]
  },
  {
   "cell_type": "code",
   "execution_count": null,
   "id": "90a00dc8-e3ba-47bc-9a0f-7fb2f93a58b3",
   "metadata": {},
   "outputs": [],
   "source": [
    "# Merge dataframes\n",
    "df_ffq = pd.DataFrame.from_dict({\"geo_accession\": geo_ids,\n",
    "                                 \"r1_url\": r1_url,\n",
    "                                 \"r1_md5_in\": r1_md5_in,\n",
    "                                 \"r2_url\": r2_url,\n",
    "                                 \"r2_md5_in\": r2_md5_in})\n",
    "\n",
    "df_merged = df_geo_clean.merge(df_sra_clean, how=\"left\", on=\"geo_accession\")\n",
    "df_merged = df_merged.merge(df_ffq, how=\"left\", on=\"geo_accession\")\n",
    "\n",
    "df_merged[\"genome_build\"] = genome_build\n",
    "df_merged[\"release_version\"] = release_version\n",
    "\n",
    "vp.print_dims(df_merged, show_rows=(None, 1))"
   ]
  },
  {
   "cell_type": "code",
   "execution_count": null,
   "id": "77d00128-2f82-4fc0-a1e4-15cf90e3435c",
   "metadata": {},
   "outputs": [],
   "source": [
    "########################\n",
    "### Dataset specific ###\n",
    "########################\n",
    "\n",
    "# Update values accordingly\n",
    "df_meta = df_merged.copy()\n",
    "\n",
    "# df_meta[\"disease_state\"] = df_meta[\"disease_state\"].map({\"Control\": \"Healthy\", \"Symptomatic\": \"AD_retinitis_pigmentosa\"})\n",
    "# df_meta[\"title\"] = df_meta[\"title\"].str[-1]\n",
    "# df_meta[\"description\"] = df_meta[\"description\"].str[-1]\n",
    "# df_meta[\"tissue_type\"] = \"eye\"\n",
    "\n",
    "# df_meta[\"sample_id\"] = df_meta[\"run_accession\"]  # geo_accession\n",
    "# df_meta[\"sample_name\"] = df_meta[\"disease_state\"] + \"_\" + df_meta[\"title\"]\n",
    "# df_meta[\"group\"] = df_meta[\"disease_state\"]\n",
    "\n",
    "# # Filter samples\n",
    "# df_meta = df_meta[df_meta[\"cell_type\"].isin(samples_to_keep)].reset_index(drop=True)"
   ]
  },
  {
   "cell_type": "code",
   "execution_count": null,
   "id": "50cb1033-9946-4809-809c-3c81fcdbdd05",
   "metadata": {},
   "outputs": [],
   "source": [
    "# Rename and move columns\n",
    "df_meta = df_meta.rename(columns={\"title\": \"biological_replicate\",\n",
    "                                  \"description\": \"sequencing_batch\",\n",
    "                                  \"source_name\": \"cell_type\"})\n",
    "\n",
    "df_meta = df_meta.move(source=[\"sample_id\", \"sample_name\", \"group\"], target=\"series_id\", position=\"before\", axis=1)\n",
    "df_meta = df_meta.move(source=[\"study_accession\", \"run_accession\"], target=\"geo_accession\", position=\"after\", axis=1)\n",
    "df_meta = df_meta.move(source=[\"genome_build\", \"release_version\"], target=\"taxid\", position=\"after\", axis=1)\n",
    "df_meta = df_meta.move(source=[\"tissue_type\"], target=\"cell_type\", position=\"before\", axis=1)\n",
    "\n",
    "min_spots = round(df_meta.run_total_spots.astype(int).min()/1e6,1)\n",
    "max_spots = round(df_meta.run_total_spots.astype(int).max()/1e6,1)\n",
    "print(f\"Min. Spots: {str(min_spots)}M\")  # Display min. spots\n",
    "print(f\"Max. Spots: {str(max_spots)}M\")  # Display max. spots\n",
    "\n",
    "vp.print_dims(df_meta, show_rows=(None, 1))"
   ]
  },
  {
   "cell_type": "markdown",
   "id": "4f3ab575-48ad-471e-ac74-719b053b39e9",
   "metadata": {},
   "source": [
    "# Download raw reads\n",
    "- **Note:** `pysradb` only allows downloads from SRA, not ENA or GEO"
   ]
  },
  {
   "cell_type": "code",
   "execution_count": null,
   "id": "bb524f33-9ccd-4104-abf6-9d94b289b3d7",
   "metadata": {},
   "outputs": [],
   "source": [
    "read_path = vp.create_dir(os.path.join(gse_path, \"raw_reads\"))\n",
    "read_urls = df_meta[[\"r1_url\", \"r2_url\"]].stack().tolist()  # Stack removes NAs\n",
    "\n",
    "with ThreadPoolExecutor(max_workers=n_threads) as executor:\n",
    "    executor.map(lambda url: vp.download_file(url, out_path=read_path, unzip=False), read_urls)"
   ]
  },
  {
   "cell_type": "markdown",
   "id": "ace665af-0139-4da9-9900-34aebedc7b5d",
   "metadata": {},
   "source": [
    "# Download supplemental files"
   ]
  },
  {
   "cell_type": "code",
   "execution_count": null,
   "id": "2117a1ff-40db-496c-95f9-7a30c3905bf2",
   "metadata": {},
   "outputs": [],
   "source": [
    "cmd_jq_supp = f\"cat {ffq_file} | jq -r '.{geo_id}.supplementary_files[].url'\"\n",
    "supp_urls = vp.run_cmd(cmd_jq_supp).stdout.split(\"\\n\")[:-1]\n",
    "\n",
    "supp_path = vp.create_dir(os.path.join(gse_path, \"supplementary_files\"))\n",
    "for url in supp_urls:\n",
    "    vp.download_file(url, out_path=supp_path)"
   ]
  },
  {
   "cell_type": "markdown",
   "id": "e6246a6a-3f44-40d7-b337-b7f0ff6ac059",
   "metadata": {},
   "source": [
    "# Add more metadata "
   ]
  },
  {
   "cell_type": "markdown",
   "id": "5008eb79-6443-4a18-8486-345c86c795b3",
   "metadata": {},
   "source": [
    "## md5 check"
   ]
  },
  {
   "cell_type": "code",
   "execution_count": null,
   "id": "e1bed958-310f-4488-8162-69d925f30a1d",
   "metadata": {},
   "outputs": [],
   "source": [
    "df_meta[\"r1_path\"] = read_path +\"/\" + df_meta[\"r1_url\"].str.split(\"/\").str[-1]\n",
    "\n",
    "with ThreadPoolExecutor(max_workers=n_threads) as executor:\n",
    "    r1_md5_out_list = list(executor.map(lambda fq: vp.check_sums(fq), df_meta[\"r1_path\"].tolist()))\n",
    "r1_md5_out_dict = {md5.split(\" \")[-1].split(\"/\")[-1].split(\".\")[0]: md5.split(\" \")[0] for md5 in r1_md5_out_list}\n",
    "\n",
    "df_meta[\"r1_md5_out\"] = df_meta[\"run_accession\"].map(r1_md5_out_dict)\n",
    "df_meta[\"r1_md5_check\"] = df_meta[\"r1_md5_out\"] == df_meta[\"r1_md5_in\"]\n",
    "assert df_meta[\"r1_md5_check\"].all(), \"md5sum check FAILED. Check that fastq files were transfered correctly.\""
   ]
  },
  {
   "cell_type": "code",
   "execution_count": null,
   "id": "093c1d0f-6878-4300-911e-652d5ee5f6e3",
   "metadata": {},
   "outputs": [],
   "source": [
    "df_meta[\"r2_path\"] = read_path +\"/\" + df_meta[\"r2_url\"].str.split(\"/\").str[-1]  # NaN for SE\n",
    "\n",
    "if df_meta[\"r2_path\"].isnull().all():\n",
    "    df_meta[\"r2_md5_out\"] = None\n",
    "    df_meta[\"r2_md5_check\"] = None\n",
    "else:\n",
    "    with ThreadPoolExecutor(max_workers=n_threads) as executor:\n",
    "        r2_md5_out_list = list(executor.map(lambda fq: vp.check_sums(fq), df_meta[\"r2_path\"].tolist()))\n",
    "    r2_md5_out_dict = {md5.split(\" \")[-1].split(\"/\")[-1].split(\".\")[0]: md5.split(\" \")[0] for md5 in r2_md5_out_list}\n",
    "    \n",
    "    df_meta[\"r2_md5_out\"] = df_meta[\"run_accession\"].map(r2_md5_out_dict)\n",
    "    df_meta[\"r2_md5_check\"] = df_meta[\"r2_md5_out\"] == df_meta[\"r2_md5_in\"]\n",
    "    assert df_meta[\"r2_md5_check\"].all(), \"md5sum check FAILED. Check that fastq files were transfered correctly.\""
   ]
  },
  {
   "cell_type": "markdown",
   "id": "a4a8a2a2-35e3-4347-bb24-a5458d933483",
   "metadata": {},
   "source": [
    "## Read lengths"
   ]
  },
  {
   "cell_type": "code",
   "execution_count": null,
   "id": "99c93ed5-a211-4be7-8fd3-4782577cc6d9",
   "metadata": {},
   "outputs": [],
   "source": [
    "def get_read_length(fq_path):\n",
    "    cmd_len = f\"zcat {fq_path} | head | sed -n '2p' | wc -c\"\n",
    "    return float(vp.run_cmd(cmd_len).stdout.strip())-1\n",
    "\n",
    "df_meta[\"r1_read_length\"] = df_meta[\"r1_path\"].apply(get_read_length)\n",
    "\n",
    "if df_meta[\"r2_path\"].isnull().all():\n",
    "    df_meta[\"r2_read_length\"] = None\n",
    "else:\n",
    "    df_meta[\"r2_read_length\"] = df_meta[\"r2_path\"].apply(get_read_length)"
   ]
  },
  {
   "cell_type": "markdown",
   "id": "b96cc7d9-b9ba-41b8-a3fa-72666a442530",
   "metadata": {},
   "source": [
    "## Strandedness\n",
    "- Strandedness assigns reads to the correct strand, especially for overlapping genes on opposite strands"
   ]
  },
  {
   "cell_type": "code",
   "execution_count": null,
   "id": "08a18dba-805e-4d94-a4a4-431260b514ee",
   "metadata": {},
   "outputs": [],
   "source": [
    "strand_path = vp.create_dir(os.path.join(gse_path, \"salmon_strandedness\"))\n",
    "\n",
    "# Select first and last sample to determine strandedness\n",
    "if read_ends==\"single\":\n",
    "    strand_names2files = df_meta[\"r1_path\"].tolist()[:1] + df_meta[\"r1_path\"].tolist()[-1:]\n",
    "    strand_names2files = {os.path.basename(f).split(\".\")[0]: [f] for f in strand_names2files}\n",
    "\n",
    "if read_ends==\"paired\":\n",
    "    l1 = df_meta[[\"r1_path\", \"r2_path\"]].stack().tolist()[:2]  # First paired-end reads\n",
    "    d1 = {os.path.basename(l1[0]).split(\".\")[0].replace(r1_suffix,\"\"): l1}\n",
    "    l2 = df_meta[[\"r1_path\", \"r2_path\"]].stack().tolist()[-2:]  # Last paired-end reads\n",
    "    d2 =  {os.path.basename(l2[0]).split(\".\")[0].replace(r1_suffix,\"\"): l2}\n",
    "    strand_names2files = {**d1, **d2}"
   ]
  },
  {
   "cell_type": "code",
   "execution_count": null,
   "id": "93705352-a7f3-4aa6-baf9-aa2e474dddb6",
   "metadata": {},
   "outputs": [],
   "source": [
    "for fastq_name, fastq_files in strand_names2files.items():    \n",
    "    cmd_strand = (\n",
    "        f\"/mnt/disks/resources/software/miniconda3/envs/Py-3.12/bin/salmon quant \"\n",
    "        f\"--index {salmon_index_path} \"\n",
    "        f\"--libType A \"  # Auto-detect library type (ex. ISR for PE and reverse stranded)\n",
    "        f\"--threads {n_threads} \"\n",
    "        f\"--skipQuant \"\n",
    "        f\"--validateMappings \"\n",
    "        f\"-o {os.path.join(strand_path, fastq_name)} \"\n",
    "    )\n",
    "    \n",
    "    if read_ends==\"single\":\n",
    "        cmd_strand = (\n",
    "            f\"{cmd_strand} \"\n",
    "            f\"-r {fastq_files[0]}\"\n",
    "        )\n",
    "    \n",
    "    if read_ends==\"paired\":\n",
    "        cmd_strand = (\n",
    "            f\"{cmd_strand} \"\n",
    "            f\"-1 {fastq_files[0]} \"\n",
    "            f\"-2 {fastq_files[1]}\"\n",
    "        )\n",
    "    res_strand = vp.run_cmd(cmd_strand)"
   ]
  },
  {
   "cell_type": "markdown",
   "id": "44d4f571-2715-4087-b882-b15b8e6b6a11",
   "metadata": {},
   "source": [
    "## Temp file for SE data\n",
    "- Nextflow cannot handle null paths, so create dummy file (SE data only)"
   ]
  },
  {
   "cell_type": "code",
   "execution_count": null,
   "id": "148ece60-ae56-42b0-880d-c2a0e7750add",
   "metadata": {},
   "outputs": [],
   "source": [
    "# Nextflow (SE data only): Nextflow cannot handle null paths, so create dummy file\n",
    "if read_ends==\"single\":\n",
    "    df_meta[\"r2_path\"] = read_path +\"/nextflow_dummy_file.txt\"\n",
    "\n",
    "    cmd_file = f\"touch {os.path.join(read_path, 'nextflow_dummy_file.txt')}\"\n",
    "    vp.run_cmd(cmd_file)"
   ]
  },
  {
   "cell_type": "markdown",
   "id": "3b6604d3-aac8-48b1-817e-b6c9122b3591",
   "metadata": {},
   "source": [
    "# QC"
   ]
  },
  {
   "cell_type": "code",
   "execution_count": null,
   "id": "22df453b-ac04-4e76-b230-5b5981671572",
   "metadata": {},
   "outputs": [],
   "source": [
    "min_cols_for_metadata = [\n",
    "    \"sample_id\",\"sample_name\",\"group\",\"series_id\",\"geo_accession\",\"study_accession\",\n",
    "    \"run_accession\", \"organism\",\"taxid\",\"genome_build\",\"release_version\",\"disease_state\",\n",
    "    \"biological_replicate\", \"tissue_type\",\"cell_type\",\"type\",\"molecule\",\"instrument_model\",\"platform_id\",\n",
    "    \"library_selection\",\"library_source\",\"library_strategy\",\"library_layout\",\"run_total_spots\",\"run_total_bases\",\n",
    "    \"r1_url\",\"r1_path\",\"r1_md5_in\",\"r1_md5_out\",\"r1_md5_check\",\"r1_read_length\",\n",
    "    \"r2_url\",\"r2_path\",\"r2_md5_in\",\"r2_md5_out\",\"r2_md5_check\",\"r2_read_length\"\n",
    "]\n",
    "\n",
    "assert set(min_cols_for_metadata).issubset(df_meta.columns), \\\n",
    "       f\"Missing required columns: {set(min_cols_for_metadata) - set(df_meta.columns)}\""
   ]
  },
  {
   "cell_type": "markdown",
   "id": "ab70cb97-4648-4553-ad0c-964d9071f124",
   "metadata": {},
   "source": [
    "# Write sample sheet for alignment"
   ]
  },
  {
   "cell_type": "code",
   "execution_count": null,
   "id": "b89b2b9e-cdee-4f56-9eb6-21eec26ac01a",
   "metadata": {},
   "outputs": [],
   "source": [
    "df_meta = df_meta.move(source=[\"r1_url\",\"r1_path\",\"r1_md5_in\",\"r1_md5_out\",\"r1_md5_check\",\"r1_read_length\",\"r2_url\",\"r2_path\",\"r2_md5_in\",\"r2_md5_out\",\"r2_md5_check\",\"r2_read_length\"], target=\"run_total_bases\", position=\"after\", axis=1)\n",
    "\n",
    "meta_file = os.path.join(input_path, f\"{geo_id}_sample_sheet_for_alignment.csv\")\n",
    "vp.write_file(df_meta, meta_file)\n",
    "\n",
    "res_dos2unix = vp.run_cmd(f\"dos2unix {meta_file}\")\n",
    "res_rm_quotes = vp.run_cmd(f\"sed -i 's/\\\"//g' {meta_file}\")\n",
    "\n",
    "df_meta"
   ]
  },
  {
   "cell_type": "markdown",
   "id": "a84b0da3-a152-456d-a5be-e25e1c655448",
   "metadata": {},
   "source": [
    "# Parameters for alignment\n",
    "- Add these to nextflow.config"
   ]
  },
  {
   "cell_type": "code",
   "execution_count": null,
   "id": "702b7636-31a9-4cf2-9288-f25ba859c90f",
   "metadata": {},
   "outputs": [],
   "source": [
    "print(f\"Avg. R1 read lengths: {str(df_meta[\"r1_read_length\"].mean())} bp\")\n",
    "print(f\"Avg. R2 read lengths: {str(df_meta[\"r2_read_length\"].mean())} bp\")\n",
    "\n",
    "print(f\"S.D. R1 read lengths: {str(np.std(df_meta[\"r1_read_length\"]))}\")\n",
    "print(f\"S.D. R2 read lengths: {str(np.std(df_meta[\"r2_read_length\"]))}\")"
   ]
  },
  {
   "cell_type": "code",
   "execution_count": null,
   "id": "9eaa98ad-f19a-46b7-a117-c33d8f206267",
   "metadata": {},
   "outputs": [],
   "source": [
    "strandedness_files = glob(os.path.join(strand_path, \"**\", \"*\"), recursive=True)\n",
    "strandedness_files = [f for f in strandedness_files if f.endswith(\"lib_format_counts.json\")]\n",
    "\n",
    "for strandedness_file in strandedness_files:\n",
    "    with open(strandedness_file, \"r\") as file:\n",
    "        library_dict = json.load(file)\n",
    "        print(library_dict[\"expected_format\"])\n",
    "        print(library_dict)"
   ]
  },
  {
   "cell_type": "markdown",
   "id": "1fc2fec1-fc4a-4446-9882-bbbfa491aab3",
   "metadata": {},
   "source": [
    "# Session info"
   ]
  },
  {
   "cell_type": "code",
   "execution_count": 3,
   "id": "c983c2a0-20bc-40cc-8f33-68ffb4b1c6d9",
   "metadata": {},
   "outputs": [
    {
     "data": {
      "text/html": [
       "<details>\n",
       "<summary>Click to view session information</summary>\n",
       "<pre>\n",
       "-----\n",
       "GEOparse            2.0.4\n",
       "VinlandPy           NA\n",
       "ffq                 0.3.1\n",
       "janitor             0.27.0\n",
       "numpy               1.26.4\n",
       "pandas              2.2.2\n",
       "pysradb             2.2.2\n",
       "session_info        1.0.0\n",
       "-----\n",
       "IPython             8.25.0\n",
       "jupyter_client      8.6.2\n",
       "jupyter_core        5.5.0\n",
       "jupyterlab          4.2.2\n",
       "-----\n",
       "Python 3.12.3 | packaged by Anaconda, Inc. | (main, May  6 2024, 19:46:43) [GCC 11.2.0]\n",
       "Linux-6.8.0-1032-gcp-x86_64-with-glibc2.35\n",
       "-----\n",
       "Session information updated at 2025-07-16 20:38\n",
       "</pre>\n",
       "</details>"
      ],
      "text/plain": [
       "<IPython.core.display.HTML object>"
      ]
     },
     "execution_count": 3,
     "metadata": {},
     "output_type": "execute_result"
    }
   ],
   "source": [
    "session_info.show(os=True, std_lib=False, dependencies=False)"
   ]
  }
 ],
 "metadata": {
  "kernelspec": {
   "display_name": "Py-3.12",
   "language": "python",
   "name": "py-3.12"
  },
  "language_info": {
   "codemirror_mode": {
    "name": "ipython",
    "version": 3
   },
   "file_extension": ".py",
   "mimetype": "text/x-python",
   "name": "python",
   "nbconvert_exporter": "python",
   "pygments_lexer": "ipython3",
   "version": "3.12.3"
  }
 },
 "nbformat": 4,
 "nbformat_minor": 5
}
