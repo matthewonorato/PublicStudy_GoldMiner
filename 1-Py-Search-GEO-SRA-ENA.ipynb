{
 "cells": [
  {
   "cell_type": "markdown",
   "id": "81f1122d-fcf5-4716-b6ae-67aa6181ecb6",
   "metadata": {
    "editable": true,
    "slideshow": {
     "slide_type": ""
    },
    "tags": []
   },
   "source": [
    "# Goals\n",
    "**[Script]** Since all companies use public data, the goal is to find gold standard studies quickly\n",
    "\n",
    "**[Overall]** We want to work with the most reliable, sufficiently powered studies\n",
    "\n",
    "**[NCBI]: GEO-SRA-Entrez-RefSeq**\n",
    "- **Note:** For GEO databases, only metadata is stored\n",
    "    - To retrieve raw data files, a second step is required such as [GEOParse](https://geoparse.readthedocs.io/en/latest/Analyse_hsa-miR-124a-3p_transfection_time-course.html) // [ffq](https://github.com/pachterlab/ffq) // [jq](https://jqlang.org/tutorial/) // [pysradb](https://saket-choudhary.me/pysradb/index.html)\n",
    "\n",
    "**[EBI]: [ExpressionAtlas](https://www.ebi.ac.uk/gxa/experiments)-[ENA](https://ena-docs.readthedocs.io/en/latest/retrieval/programmatic-access/advanced-search.html)-[Biomart](https://bioconductor.org/packages/release/bioc/vignettes/biomaRt/inst/doc/accessing_ensembl.html)-Ensembl**\n",
    "\n",
    "**[Disease] - [Hypothesis] - [Open Targets](link)**"
   ]
  },
  {
   "cell_type": "markdown",
   "id": "16183fd8-8c15-4ebb-aa15-c04e9a4f57f0",
   "metadata": {},
   "source": [
    "# Packages"
   ]
  },
  {
   "cell_type": "code",
   "execution_count": 2,
   "id": "0b748716-39ef-4d48-9a4c-fb199e776998",
   "metadata": {},
   "outputs": [],
   "source": [
    "#########################\n",
    "### Standard Library ####\n",
    "#########################\n",
    "import os\n",
    "import re\n",
    "import sys\n",
    "import json\n",
    "import math\n",
    "import warnings\n",
    "import subprocess\n",
    "from glob import glob\n",
    "from datetime import datetime\n",
    "\n",
    "#####################\n",
    "### Data Cleaning ###\n",
    "#####################\n",
    "import numpy as np\n",
    "import pandas as pd\n",
    "import janitor as jn\n",
    "import VinlandPy as vp\n",
    "\n",
    "###################\n",
    "### Public Data ###\n",
    "###################\n",
    "import GEOparse\n",
    "from Bio import Entrez\n",
    "from pysradb.sraweb import SRAweb\n",
    "from pysradb.search import EnaSearch\n",
    "\n",
    "####################\n",
    "### Session Info ###\n",
    "####################\n",
    "import session_info"
   ]
  },
  {
   "cell_type": "markdown",
   "id": "e0f43b6f-e281-44b5-b8e4-de8eee4d9820",
   "metadata": {},
   "source": [
    "## Options"
   ]
  },
  {
   "cell_type": "code",
   "execution_count": null,
   "id": "f42f80cd-e57e-4c9f-9202-f66afb848048",
   "metadata": {},
   "outputs": [],
   "source": [
    "warnings.simplefilter(action=\"once\", category=Warning)\n",
    "\n",
    "pd.options.display.max_columns = 200\n",
    "pd.options.display.max_colwidth = 100\n",
    "pd.options.display.max_rows = 200"
   ]
  },
  {
   "cell_type": "markdown",
   "id": "bcc7d23d-6aa4-4bd7-beba-99a106199fe8",
   "metadata": {},
   "source": [
    "## Functions"
   ]
  },
  {
   "cell_type": "code",
   "execution_count": null,
   "id": "c6a8a856-ded4-4b7c-a332-87a4c52b171a",
   "metadata": {},
   "outputs": [],
   "source": []
  },
  {
   "cell_type": "markdown",
   "id": "d7917d32-960f-47c9-8e0a-8b2c91e0f9a4",
   "metadata": {},
   "source": [
    "# Parameters"
   ]
  },
  {
   "cell_type": "markdown",
   "id": "1d095ffd-9649-4a58-98b6-18f239fbbefe",
   "metadata": {},
   "source": [
    "## Inputs\n",
    "- For more GEO DataSet Types and other query options, see [Query Options](https://www.ncbi.nlm.nih.gov/gds/advanced/)"
   ]
  },
  {
   "cell_type": "code",
   "execution_count": null,
   "id": "be975800-3384-4e19-9588-de3170378f01",
   "metadata": {},
   "outputs": [],
   "source": [
    "query_term = \"Retinitis pigmentosa\"  # (smok* OR diet)\n",
    "ena_query_term = \"Retinitis\"  # No hits for \"Retinitis pigmentosa\"\n",
    "\n",
    "species = \"Homo sapiens\"  # (mammals[Organism] NOT human[Organism])\n",
    "n_samples = \"10:1000\"\n",
    "\n",
    "geo_data_types = \"expression profiling by high throughput sequencing\"\n",
    "sra_data_types = [\"RNA-Seq\"]\n",
    "\n",
    "geo_query = (\n",
    "    f'{query_term}[All Fields] AND '\n",
    "    f'{species}[Organism] AND '\n",
    "    f'{n_samples}[Number of Samples] AND '\n",
    "    f'\"{geo_data_types}\"[DataSet Type]'\n",
    ")\n",
    "geo_query"
   ]
  },
  {
   "cell_type": "markdown",
   "id": "0b0cd6c8-54c0-43c4-846c-6dd57cec2e54",
   "metadata": {},
   "source": [
    "## Outputs"
   ]
  },
  {
   "cell_type": "code",
   "execution_count": null,
   "id": "72f71972-a716-43ec-adc6-560fc4ca580d",
   "metadata": {},
   "outputs": [],
   "source": [
    "input_path = vp.create_dir(\"../../inputs\")\n",
    "output_path = vp.create_dir(\"../../outputs\")\n",
    "results_path = vp.create_dir(\"../../results\")\n",
    "\n",
    "search_path = vp.create_dir(os.path.join(input_path, \"initial_search\"))"
   ]
  },
  {
   "cell_type": "markdown",
   "id": "c75e539e-593a-4f5b-89ca-6f8de9f72596",
   "metadata": {},
   "source": [
    "# Search GEO\n",
    "- [E-Utils API Access](https://www.ncbi.nlm.nih.gov/geo/info/geo_paccess.html) // [Entrez ESearch](https://eutils.ncbi.nlm.nih.gov/entrez/eutils/esearch.fcgi?db=gds&term=Retinitis+pigmentosa[All%20Fields]+AND+Homo%20sapiens[Organism]+AND+10:50[Number%20of%20Samples]&retmax=100000&usehistory=y): query to UIDs // [Entrez ESummary](https://eutils.ncbi.nlm.nih.gov/entrez/eutils/esummary.fcgi?db=gds&id=200253526): UIDs to summary record"
   ]
  },
  {
   "cell_type": "markdown",
   "id": "ddb5e8eb-2395-4564-96f1-27892c7d9944",
   "metadata": {},
   "source": [
    "## List all NCBI databases\n",
    "- These are the dbs available in NCBI's Entrez"
   ]
  },
  {
   "cell_type": "code",
   "execution_count": null,
   "id": "b89a38ef-2d6c-43a5-a707-d414a7638ead",
   "metadata": {},
   "outputs": [],
   "source": [
    "einfo = Entrez.einfo()\n",
    "ncbi_dbs = Entrez.read(einfo)\n",
    "einfo.close()\n",
    "print(sorted(list(ncbi_dbs[\"DbList\"])))"
   ]
  },
  {
   "cell_type": "markdown",
   "id": "2d37fa47-6f79-4070-af0c-c8ef761834c1",
   "metadata": {},
   "source": [
    "## Query GEO"
   ]
  },
  {
   "cell_type": "code",
   "execution_count": null,
   "id": "117061dc-8663-4050-8ffb-85dbc7c3fa27",
   "metadata": {},
   "outputs": [],
   "source": [
    "esearch = Entrez.esearch(db=\"gds\", term=geo_query, retmax=100000)  # gds = GEO DataSets\n",
    "esearch_results = Entrez.read(esearch)\n",
    "esearch.close()\n",
    "\n",
    "geo_ids = esearch_results[\"IdList\"]\n",
    "len(geo_ids)"
   ]
  },
  {
   "cell_type": "code",
   "execution_count": null,
   "id": "0a0c0901-c3d8-4e71-b648-b3458b415702",
   "metadata": {},
   "outputs": [],
   "source": [
    "esummary = Entrez.esummary(db=\"gds\", id=\",\".join(geo_ids))\n",
    "esummary_results = Entrez.read(esummary)\n",
    "esummary.close()\n",
    "\n",
    "df_geo = pd.DataFrame(esummary_results)\n",
    "vp.print_dims(df_geo, show_rows=(-1, None))"
   ]
  },
  {
   "cell_type": "markdown",
   "id": "e9f136cd-4810-4937-9e63-4946a52da37b",
   "metadata": {},
   "source": [
    "## Clean GEO"
   ]
  },
  {
   "cell_type": "code",
   "execution_count": null,
   "id": "f168e3a8-9fc6-46d4-b212-6d58d2d48c88",
   "metadata": {},
   "outputs": [],
   "source": [
    "# Aggregate sample info and PMIDs, which are nested\n",
    "sample_ids = {}\n",
    "sample_names = {}\n",
    "pmids = {}\n",
    "for r in esummary_results:\n",
    "    ncbi_id = r.get(\"Id\")\n",
    "    samples = r.get(\"Samples\")\n",
    "    df_samples = pd.DataFrame(samples)\n",
    "    \n",
    "    sample_id = \"|\".join(df_samples[\"Accession\"].tolist())\n",
    "    sample_ids[ncbi_id] = sample_id\n",
    "\n",
    "    sample_name = \"|\".join(df_samples[\"Title\"].tolist())\n",
    "    sample_names[ncbi_id] = sample_name\n",
    "\n",
    "    pmid = list(r.get(\"PubMedIds\", \"No PMID\"))\n",
    "    pmid = \"|\".join([str(int(i)) for i in pmid])\n",
    "    pmids[ncbi_id] = pmid"
   ]
  },
  {
   "cell_type": "code",
   "execution_count": null,
   "id": "692a6df4-f6cb-4cb4-9a22-975dd30a2ee8",
   "metadata": {},
   "outputs": [],
   "source": [
    "# Remove excess columns and add aggregated sample info and PMIDs\n",
    "geo_cols_to_rm = [\n",
    "    \"Item\",\"GDS\",\"ptechType\",\"valType\",\"SSInfo\",\"subsetInfo\",\"Relations\",\"ExtRelations\",\n",
    "    \"SeriesTitle\",\"PlatformTitle\",\"PlatformTaxa\",\"SamplesTaxa\",\"Projects\",\"Samples\",\"PubMedIds\"\n",
    "]\n",
    "geo_cols_to_rm = [c for c in df_geo.columns if c in geo_cols_to_rm]\n",
    "df_geo_clean = df_geo.drop(columns=geo_cols_to_rm)\n",
    "\n",
    "df_geo_clean = df_geo_clean.clean_names(remove_special=True, case_type=\"lower\")\n",
    "df_geo_clean[\"sample_ids\"] = df_geo_clean[\"id\"].map(sample_ids)\n",
    "df_geo_clean[\"sample_names\"] = df_geo_clean[\"id\"].map(sample_names)\n",
    "df_geo_clean[\"link_to_geo\"] = \"https://www.ncbi.nlm.nih.gov/geo/query/acc.cgi?acc=\" + df_geo_clean[\"accession\"]\n",
    "df_geo_clean[\"link_to_geo\"] = df_geo_clean[\"link_to_geo\"].apply(lambda x: f'=HYPERLINK(\"{x}\",\"Link\")')\n",
    "df_geo_clean[\"pmids\"] = df_geo_clean[\"id\"].map(pmids)\n",
    "\n",
    "df_geo_clean = df_geo_clean.move(source=[\"link_to_geo\"], target=\"accession\", position=\"after\", axis=1)\n",
    "\n",
    "# Write out\n",
    "geo_file_name = f'{datetime.now().strftime(\"%Y-%m-%d\")}-GEO_search'\n",
    "geo_file = os.path.join(search_path, f\"{geo_file_name}.csv\")\n",
    "\n",
    "vp.write_file(df_geo_clean, geo_file)\n",
    "vp.print_dims(df_geo_clean, show_rows=(-1, None))"
   ]
  },
  {
   "cell_type": "markdown",
   "id": "62014e2f-f2b6-4a8a-9428-9c95300cf9f4",
   "metadata": {},
   "source": [
    "# Alternative data sources\n",
    "- [recount3 (not used)](https://rna.recount.bio/): 9,000 human and 10,000 mouse studies uniformly processed with GTEx, TCGA, and SRA data"
   ]
  },
  {
   "cell_type": "markdown",
   "id": "3c43d9c8-63cc-4e84-a389-5ad67a7eb695",
   "metadata": {},
   "source": [
    "## Search SRA\n",
    "- **Note:** Some samples are in SRA but not in GEO\n",
    "- **Note:** Search returns one sample per row (not one study like GEO)"
   ]
  },
  {
   "cell_type": "code",
   "execution_count": null,
   "id": "3faec328-32fc-409a-aabc-f8d3e4258256",
   "metadata": {},
   "outputs": [],
   "source": [
    "db = SRAweb()\n",
    "df_sra = db.search_sra(search_str=f'\"{query_term}\"', assay=True,detailed=True,\n",
    "                       sample_attribute=True, expand_sample_attributes=True, output_read_lengths=True)\n",
    "\n",
    "# Filter to species and data types of interest \n",
    "df_sra = df_sra[df_sra[\"organism_name\"]==f\"{species}\"].reset_index(drop=True)\n",
    "df_sra = df_sra[df_sra.library_strategy.isin(sra_data_types)].reset_index(drop=True)\n",
    "\n",
    "# Filter to studies with control samples\n",
    "sra_control_studies = df_sra[df_sra.disease.isin([\"Control\",\"normal\"])].study_accession.unique().tolist()\n",
    "df_sra = df_sra[df_sra.study_accession.isin(sra_control_studies)]\n",
    "\n",
    "# Filter to studies with at least n_samples\n",
    "sra_powered_studies = df_sra.study_accession.value_counts()\n",
    "sra_powered_studies = sra_powered_studies[sra_powered_studies > int(n_samples.split(\":\")[0])].index.tolist()\n",
    "df_sra = df_sra[df_sra.study_accession.isin(sra_powered_studies)]\n",
    "\n",
    "# Remove excess columns and clean\n",
    "sra_cols_to_keep = [\n",
    "    \"study_accession\",\"study_title\",\"run_accession\",\"sample_accession\",\"sample name\",\"biosample\",\n",
    "    \"bioproject\",\"phenotype\",\"experiment_title\",\"experiment_accession\",\"instrument_model\",\"patient id\",\n",
    "    \"organism_taxid\",\"organism_name\",\"library_name\",\"library_strategy\",\"library_source\",\n",
    "    \"library_selection\",\"library_layout\",\"run_total_spots\",\"run_total_bases\",\"source_name\",\"tissue\",\n",
    "    \"cell type\",\"genotype\",\"treatment\",\"geo_loc_name\",\"collection_date\",\"cell line\",\"isolate\",\"age\",\n",
    "    \"sex\",\"replicate\",\"cell_line\",\"disease\",\"sample_type\",\"common name\",\"disease state\",\"time\",\n",
    "    \"ena_fastq_http\",\"ena_fastq_http_1\",\"ena_fastq_http_2\"\n",
    "]\n",
    "sra_cols_to_keep = [c for c in df_sra.columns if c in sra_cols_to_keep]\n",
    "df_sra = df_sra[sra_cols_to_keep]\n",
    "\n",
    "df_sra = df_sra.clean_names(remove_special=True, case_type=\"lower\")\n",
    "df_sra = df_sra.dropna(axis=1, how=\"all\").replace({pd.NA: None})  # Remove columns with all NAs\n",
    "\n",
    "# Write out\n",
    "sra_file_name = f'{datetime.now().strftime(\"%Y-%m-%d\")}-SRA_search'\n",
    "sra_file = os.path.join(search_path, f\"{sra_file_name}.csv\")\n",
    "\n",
    "vp.write_file(df_sra, sra_file)\n",
    "vp.print_dims(df_sra, show_rows=(None,1))"
   ]
  },
  {
   "cell_type": "markdown",
   "id": "ca20ecb0-680d-46c6-bc26-8fc62a38ed42",
   "metadata": {},
   "source": [
    "## Search ENA"
   ]
  },
  {
   "cell_type": "code",
   "execution_count": null,
   "id": "931f007b-1abc-420c-a17c-5849c8de6a71",
   "metadata": {},
   "outputs": [],
   "source": [
    "ena_search = EnaSearch(return_max=1000, query=ena_query_term)\n",
    "ena_search.search()\n",
    "df_ena = ena_search.get_df()\n",
    "\n",
    "# Filter to species and data types of interest \n",
    "df_ena = df_ena[df_ena.scientific_name==f\"{species}\"].reset_index(drop=True)\n",
    "df_ena = df_ena[df_ena.library_strategy.isin(sra_data_types)].reset_index(drop=True)\n",
    "df_ena = df_ena.dropna(axis=1, how=\"all\")\n",
    "\n",
    "# Write out\n",
    "ena_file_name = f'{datetime.now().strftime(\"%Y-%m-%d\")}-ENA_search'\n",
    "ena_file = os.path.join(search_path, f\"{ena_file_name}.csv\")\n",
    "\n",
    "vp.write_file(df_ena, ena_file)\n",
    "vp.print_dims(df_ena, show_rows=(None,1))"
   ]
  },
  {
   "cell_type": "markdown",
   "id": "5c226550-dc84-4dec-b0f6-40422e3eef45",
   "metadata": {},
   "source": [
    "## Search ExpressionAtlas\n",
    "Since there are not a lot of studies here, we can search this through the web browser - [bulkEA](https://www.ebi.ac.uk/gxa/experiments?species=Homo+sapien) + [scEA](https://www.ebi.ac.uk/gxa/sc/experiments?species=%22homo+sapiens%22)\n",
    "- Queries can be either in a baseline context, e.g. find genes expressed in the macaque brain, or in a differential context, e.g. find genes that are up or downregulated in response to auxin in Arabidopsis\n",
    "- All studies are manually curated and annotated with ontology terms, checked for high quality and re-analysed using standardised methods"
   ]
  },
  {
   "cell_type": "code",
   "execution_count": null,
   "id": "5ac084b8-476b-4d5d-9791-b5c3f8c5b612",
   "metadata": {},
   "outputs": [],
   "source": [
    "print(\"Use web browser\")"
   ]
  },
  {
   "cell_type": "markdown",
   "id": "9b41b52f-c474-4ed8-bcd7-86399799d99b",
   "metadata": {},
   "source": [
    "## Search DISCO\n",
    "- **Note:** [DISCO](https://disco.bii.a-star.edu.sg/) is one of the best resources for scRNAseq data. Also see [SCimilarity](https://genentech.github.io/scimilarity/index.html)."
   ]
  },
  {
   "cell_type": "code",
   "execution_count": null,
   "id": "4e9c6bba-9a15-4494-be01-9c21f29aabf7",
   "metadata": {},
   "outputs": [],
   "source": []
  },
  {
   "cell_type": "markdown",
   "id": "75b52c8a-0eaf-4356-b045-a31abeab5088",
   "metadata": {},
   "source": [
    "# Write to Excel\n",
    "- **Note:** Each tab must be created and formatted first before writing them out together as an Excel file"
   ]
  },
  {
   "cell_type": "code",
   "execution_count": null,
   "id": "c5931796-1856-4626-818a-c57a1971c49c",
   "metadata": {},
   "outputs": [],
   "source": [
    "excel_file_name = f'{datetime.now().strftime(\"%Y-%m-%d\")}_Public_Studies_Initial_Search'\n",
    "excel_file = os.path.join(results_path, f\"{excel_file_name}.xlsx\")\n",
    "\n",
    "geo_headers = vp.get_headers(df_geo_clean, colors=[\"F7FFBF\"])\n",
    "wb = vp.create_excel_tab(\n",
    "        df_geo_clean,\n",
    "        geo_headers,\n",
    "        tab_name=\"GEO\",\n",
    "        out_file=None,\n",
    "        previous_workbook=None,\n",
    "        template_file=None,\n",
    "        freeze_cell=\"A2\",\n",
    "        row_to_group=None,\n",
    "        cnd_format_dict={\"link_to_geo\": \"link-0000FF-single\"})\n",
    "\n",
    "sra_headers = vp.get_headers(df_sra, colors=[\"F7FFBF\"])\n",
    "wb = vp.create_excel_tab(\n",
    "        df_sra,\n",
    "        sra_headers,\n",
    "        tab_name=\"SRA\",\n",
    "        out_file=None,\n",
    "        previous_workbook=wb,\n",
    "        template_file=None,\n",
    "        freeze_cell=\"A2\",\n",
    "        row_to_group=None,\n",
    "        cnd_format_dict=None)\n",
    "\n",
    "ena_headers = vp.get_headers(df_ena, colors=[\"F7FFBF\"])\n",
    "wb = vp.create_excel_tab(\n",
    "        df_ena,\n",
    "        ena_headers,\n",
    "        tab_name=\"ENA\",\n",
    "        out_file=excel_file,\n",
    "        previous_workbook=wb,\n",
    "        template_file=None,\n",
    "        freeze_cell=\"A2\",\n",
    "        row_to_group=None,\n",
    "        cnd_format_dict=None)"
   ]
  },
  {
   "cell_type": "markdown",
   "id": "f256d779-5a18-4c3c-a7f0-27ab0b8c4832",
   "metadata": {},
   "source": [
    "# Session info"
   ]
  },
  {
   "cell_type": "code",
   "execution_count": 3,
   "id": "7556abef-16e6-4851-b8eb-ab7beddde20c",
   "metadata": {},
   "outputs": [
    {
     "data": {
      "text/html": [
       "<details>\n",
       "<summary>Click to view session information</summary>\n",
       "<pre>\n",
       "-----\n",
       "Bio                 1.78\n",
       "GEOparse            2.0.4\n",
       "VinlandPy           NA\n",
       "janitor             0.27.0\n",
       "numpy               1.26.4\n",
       "pandas              2.2.2\n",
       "pysradb             2.2.2\n",
       "session_info        1.0.0\n",
       "-----\n",
       "IPython             8.25.0\n",
       "jupyter_client      8.6.2\n",
       "jupyter_core        5.5.0\n",
       "jupyterlab          4.2.2\n",
       "-----\n",
       "Python 3.12.3 | packaged by Anaconda, Inc. | (main, May  6 2024, 19:46:43) [GCC 11.2.0]\n",
       "Linux-6.8.0-1032-gcp-x86_64-with-glibc2.35\n",
       "-----\n",
       "Session information updated at 2025-07-16 20:07\n",
       "</pre>\n",
       "</details>"
      ],
      "text/plain": [
       "<IPython.core.display.HTML object>"
      ]
     },
     "execution_count": 3,
     "metadata": {},
     "output_type": "execute_result"
    }
   ],
   "source": [
    "session_info.show(os=True, std_lib=False, dependencies=False)"
   ]
  }
 ],
 "metadata": {
  "kernelspec": {
   "display_name": "Py-3.12",
   "language": "python",
   "name": "py-3.12"
  },
  "language_info": {
   "codemirror_mode": {
    "name": "ipython",
    "version": 3
   },
   "file_extension": ".py",
   "mimetype": "text/x-python",
   "name": "python",
   "nbconvert_exporter": "python",
   "pygments_lexer": "ipython3",
   "version": "3.12.3"
  }
 },
 "nbformat": 4,
 "nbformat_minor": 5
}
