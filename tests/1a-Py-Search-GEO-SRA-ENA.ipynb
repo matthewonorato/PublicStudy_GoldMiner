{
 "cells": [
  {
   "cell_type": "markdown",
   "id": "81f1122d-fcf5-4716-b6ae-67aa6181ecb6",
   "metadata": {
    "editable": true,
    "slideshow": {
     "slide_type": ""
    },
    "tags": []
   },
   "source": [
    "# Goals\n",
    "**[Script]** Since all companies use public data, the goal is to find gold standard studies quickly\n",
    "\n",
    "**[Overall]** We want to work with the most reliable, sufficiently powered studies\n",
    "\n",
    "**[NCBI]: GEO-SRA-Entrez-RefSeq**\n",
    "- **Note:** For GEO databases, only metadata is stored\n",
    "    - To retrieve raw data files, a second step is required such as [GEOParse](https://geoparse.readthedocs.io/en/latest/Analyse_hsa-miR-124a-3p_transfection_time-course.html) // [ffq](https://github.com/pachterlab/ffq) // [jq](https://jqlang.org/tutorial/) // [pysradb](https://saket-choudhary.me/pysradb/index.html)\n",
    "\n",
    "**[EBI]: [ExpressionAtlas](https://www.ebi.ac.uk/gxa/experiments)-[ENA](https://ena-docs.readthedocs.io/en/latest/retrieval/programmatic-access/advanced-search.html)-[Biomart](https://bioconductor.org/packages/release/bioc/vignettes/biomaRt/inst/doc/accessing_ensembl.html)-Ensembl**\n",
    "\n",
    "**[Retinitis pigmentosa]**\n",
    "- **[Hypothesis]** HPA links RP to RHO (potential drug target, GPCR, eye-specific)\n",
    "- **[More]:** [Open Targets](https://platform.opentargets.org/disease/MONDO_0019200/associations?table=associations) // [Unmet Needs](https://pmc.ncbi.nlm.nih.gov/articles/PMC9232096/)"
   ]
  },
  {
   "cell_type": "markdown",
   "id": "16183fd8-8c15-4ebb-aa15-c04e9a4f57f0",
   "metadata": {},
   "source": [
    "# Packages"
   ]
  },
  {
   "cell_type": "code",
   "execution_count": 1,
   "id": "0b748716-39ef-4d48-9a4c-fb199e776998",
   "metadata": {},
   "outputs": [
    {
     "name": "stderr",
     "output_type": "stream",
     "text": [
      "/mnt/disks/resources/software/miniconda3/envs/Py-3.12/lib/python3.12/site-packages/pysradb/utils.py:14: TqdmWarning: IProgress not found. Please update jupyter and ipywidgets. See https://ipywidgets.readthedocs.io/en/stable/user_install.html\n",
      "  from tqdm.autonotebook import tqdm\n",
      "/mnt/disks/resources/software/miniconda3/envs/Py-3.12/lib/python3.12/site-packages/requests_ftp/ftp.py:9: DeprecationWarning: 'cgi' is deprecated and slated for removal in Python 3.13\n",
      "  import cgi\n"
     ]
    }
   ],
   "source": [
    "#########################\n",
    "### Standard Library ####\n",
    "#########################\n",
    "import os\n",
    "import re\n",
    "import sys\n",
    "import json\n",
    "import math\n",
    "import warnings\n",
    "import subprocess\n",
    "from glob import glob\n",
    "from datetime import datetime\n",
    "\n",
    "#####################\n",
    "### Data Cleaning ###\n",
    "#####################\n",
    "import numpy as np\n",
    "import pandas as pd\n",
    "import janitor as jn\n",
    "import VinlandPy as vp\n",
    "\n",
    "###################\n",
    "### Public Data ###\n",
    "###################\n",
    "import GEOparse\n",
    "from Bio import Entrez\n",
    "from pysradb.sraweb import SRAweb\n",
    "from pysradb.search import EnaSearch\n",
    "\n",
    "####################\n",
    "### Session Info ###\n",
    "####################\n",
    "import session_info"
   ]
  },
  {
   "cell_type": "markdown",
   "id": "e0f43b6f-e281-44b5-b8e4-de8eee4d9820",
   "metadata": {},
   "source": [
    "## Options"
   ]
  },
  {
   "cell_type": "code",
   "execution_count": 2,
   "id": "f42f80cd-e57e-4c9f-9202-f66afb848048",
   "metadata": {},
   "outputs": [],
   "source": [
    "warnings.simplefilter(action=\"once\", category=Warning)\n",
    "\n",
    "pd.options.display.max_columns = 200\n",
    "pd.options.display.max_colwidth = 100\n",
    "pd.options.display.max_rows = 200"
   ]
  },
  {
   "cell_type": "markdown",
   "id": "bcc7d23d-6aa4-4bd7-beba-99a106199fe8",
   "metadata": {},
   "source": [
    "## Functions"
   ]
  },
  {
   "cell_type": "code",
   "execution_count": null,
   "id": "c6a8a856-ded4-4b7c-a332-87a4c52b171a",
   "metadata": {},
   "outputs": [],
   "source": []
  },
  {
   "cell_type": "markdown",
   "id": "d7917d32-960f-47c9-8e0a-8b2c91e0f9a4",
   "metadata": {},
   "source": [
    "# Parameters"
   ]
  },
  {
   "cell_type": "markdown",
   "id": "1d095ffd-9649-4a58-98b6-18f239fbbefe",
   "metadata": {},
   "source": [
    "## Inputs\n",
    "- For more GEO DataSet Types and other query options, see [Query Options](https://www.ncbi.nlm.nih.gov/gds/advanced/)"
   ]
  },
  {
   "cell_type": "code",
   "execution_count": 3,
   "id": "be975800-3384-4e19-9588-de3170378f01",
   "metadata": {},
   "outputs": [
    {
     "data": {
      "text/plain": [
       "'Retinitis pigmentosa[All Fields] AND Homo sapiens[Organism] AND 10:1000[Number of Samples] AND \"expression profiling by high throughput sequencing\"[DataSet Type]'"
      ]
     },
     "execution_count": 3,
     "metadata": {},
     "output_type": "execute_result"
    }
   ],
   "source": [
    "query_term = \"Retinitis pigmentosa\"  # (smok* OR diet)\n",
    "ena_query_term = \"Retinitis\"  # No hits for \"Retinitis pigmentosa\"\n",
    "\n",
    "species = \"Homo sapiens\"  # (mammals[Organism] NOT human[Organism])\n",
    "n_samples = \"10:1000\"\n",
    "\n",
    "geo_data_types = \"expression profiling by high throughput sequencing\"\n",
    "sra_data_types = [\"RNA-Seq\"]\n",
    "\n",
    "geo_query = (\n",
    "    f'{query_term}[All Fields] AND '\n",
    "    f'{species}[Organism] AND '\n",
    "    f'{n_samples}[Number of Samples] AND '\n",
    "    f'\"{geo_data_types}\"[DataSet Type]'\n",
    ")\n",
    "geo_query"
   ]
  },
  {
   "cell_type": "markdown",
   "id": "0b0cd6c8-54c0-43c4-846c-6dd57cec2e54",
   "metadata": {},
   "source": [
    "## Outputs"
   ]
  },
  {
   "cell_type": "code",
   "execution_count": 4,
   "id": "72f71972-a716-43ec-adc6-560fc4ca580d",
   "metadata": {},
   "outputs": [
    {
     "name": "stdout",
     "output_type": "stream",
     "text": [
      "../inputs already exists\n",
      "../outputs already exists\n",
      "../results already exists\n",
      "../inputs/initial_search already exists\n"
     ]
    }
   ],
   "source": [
    "input_path = vp.create_dir(\"./inputs\")\n",
    "search_path = vp.create_dir(os.path.join(input_path, \"initial_search\"))"
   ]
  },
  {
   "cell_type": "markdown",
   "id": "c75e539e-593a-4f5b-89ca-6f8de9f72596",
   "metadata": {},
   "source": [
    "# Search GEO\n",
    "- [E-Utils API Access](https://www.ncbi.nlm.nih.gov/geo/info/geo_paccess.html) // [Entrez ESearch](https://eutils.ncbi.nlm.nih.gov/entrez/eutils/esearch.fcgi?db=gds&term=Retinitis+pigmentosa[All%20Fields]+AND+Homo%20sapiens[Organism]+AND+10:50[Number%20of%20Samples]&retmax=100000&usehistory=y): query to UIDs // [Entrez ESummary](https://eutils.ncbi.nlm.nih.gov/entrez/eutils/esummary.fcgi?db=gds&id=200253526): UIDs to summary record"
   ]
  },
  {
   "cell_type": "markdown",
   "id": "ddb5e8eb-2395-4564-96f1-27892c7d9944",
   "metadata": {},
   "source": [
    "## List all NCBI databases\n",
    "- These are the dbs available in NCBI's Entrez"
   ]
  },
  {
   "cell_type": "code",
   "execution_count": 5,
   "id": "b89a38ef-2d6c-43a5-a707-d414a7638ead",
   "metadata": {},
   "outputs": [
    {
     "name": "stderr",
     "output_type": "stream",
     "text": [
      "/mnt/disks/resources/software/miniconda3/envs/Py-3.12/lib/python3.12/site-packages/Bio/Entrez/__init__.py:658: UserWarning: \n",
      "Email address is not specified.\n",
      "\n",
      "To make use of NCBI's E-utilities, NCBI requires you to specify your\n",
      "email address with each request.  As an example, if your email address\n",
      "is A.N.Other@example.com, you can specify it as follows:\n",
      "   from Bio import Entrez\n",
      "   Entrez.email = 'A.N.Other@example.com'\n",
      "In case of excessive usage of the E-utilities, NCBI will attempt to contact\n",
      "a user at the email address provided before blocking access to the\n",
      "E-utilities.\n",
      "  warnings.warn(\n"
     ]
    },
    {
     "name": "stdout",
     "output_type": "stream",
     "text": [
      "['annotinfo', 'assembly', 'biocollections', 'bioproject', 'biosample', 'blastdbinfo', 'books', 'cdd', 'clinvar', 'dbvar', 'gap', 'gapplus', 'gds', 'gene', 'genome', 'geoprofiles', 'grasp', 'gtr', 'ipg', 'medgen', 'mesh', 'nlmcatalog', 'nuccore', 'nucleotide', 'omim', 'orgtrack', 'pcassay', 'pccompound', 'pcsubstance', 'pmc', 'protein', 'proteinclusters', 'protfam', 'pubmed', 'seqannot', 'snp', 'sra', 'structure', 'taxonomy']\n"
     ]
    }
   ],
   "source": [
    "einfo = Entrez.einfo()\n",
    "ncbi_dbs = Entrez.read(einfo)\n",
    "einfo.close()\n",
    "print(sorted(list(ncbi_dbs[\"DbList\"])))"
   ]
  },
  {
   "cell_type": "markdown",
   "id": "2d37fa47-6f79-4070-af0c-c8ef761834c1",
   "metadata": {},
   "source": [
    "## Query GEO"
   ]
  },
  {
   "cell_type": "code",
   "execution_count": 6,
   "id": "117061dc-8663-4050-8ffb-85dbc7c3fa27",
   "metadata": {},
   "outputs": [
    {
     "data": {
      "text/plain": [
       "14"
      ]
     },
     "execution_count": 6,
     "metadata": {},
     "output_type": "execute_result"
    }
   ],
   "source": [
    "esearch = Entrez.esearch(db=\"gds\", term=geo_query, retmax=100000)  # gds = GEO DataSets\n",
    "esearch_results = Entrez.read(esearch)\n",
    "esearch.close()\n",
    "\n",
    "geo_ids = esearch_results[\"IdList\"]\n",
    "len(geo_ids)"
   ]
  },
  {
   "cell_type": "code",
   "execution_count": 7,
   "id": "0a0c0901-c3d8-4e71-b648-b3458b415702",
   "metadata": {},
   "outputs": [
    {
     "name": "stdout",
     "output_type": "stream",
     "text": [
      "(14, 29)\n"
     ]
    },
    {
     "data": {
      "text/html": [
       "<div>\n",
       "<style scoped>\n",
       "    .dataframe tbody tr th:only-of-type {\n",
       "        vertical-align: middle;\n",
       "    }\n",
       "\n",
       "    .dataframe tbody tr th {\n",
       "        vertical-align: top;\n",
       "    }\n",
       "\n",
       "    .dataframe thead th {\n",
       "        text-align: right;\n",
       "    }\n",
       "</style>\n",
       "<table border=\"1\" class=\"dataframe\">\n",
       "  <thead>\n",
       "    <tr style=\"text-align: right;\">\n",
       "      <th></th>\n",
       "      <th>Item</th>\n",
       "      <th>Id</th>\n",
       "      <th>Accession</th>\n",
       "      <th>GDS</th>\n",
       "      <th>title</th>\n",
       "      <th>summary</th>\n",
       "      <th>GPL</th>\n",
       "      <th>GSE</th>\n",
       "      <th>taxon</th>\n",
       "      <th>entryType</th>\n",
       "      <th>gdsType</th>\n",
       "      <th>ptechType</th>\n",
       "      <th>valType</th>\n",
       "      <th>SSInfo</th>\n",
       "      <th>subsetInfo</th>\n",
       "      <th>PDAT</th>\n",
       "      <th>suppFile</th>\n",
       "      <th>Samples</th>\n",
       "      <th>Relations</th>\n",
       "      <th>ExtRelations</th>\n",
       "      <th>n_samples</th>\n",
       "      <th>SeriesTitle</th>\n",
       "      <th>PlatformTitle</th>\n",
       "      <th>PlatformTaxa</th>\n",
       "      <th>SamplesTaxa</th>\n",
       "      <th>PubMedIds</th>\n",
       "      <th>Projects</th>\n",
       "      <th>FTPLink</th>\n",
       "      <th>GEO2R</th>\n",
       "    </tr>\n",
       "  </thead>\n",
       "  <tbody>\n",
       "    <tr>\n",
       "      <th>13</th>\n",
       "      <td>[]</td>\n",
       "      <td>200062936</td>\n",
       "      <td>GSE62936</td>\n",
       "      <td></td>\n",
       "      <td>RNA-Seq Analysis in hES/ iPS cell-derived neuronal samples</td>\n",
       "      <td>We characterized the gene expression by Hierarchical Clustering and one-matrix clustering in hES...</td>\n",
       "      <td>16791</td>\n",
       "      <td>62936</td>\n",
       "      <td>Homo sapiens</td>\n",
       "      <td>GSE</td>\n",
       "      <td>Expression profiling by high throughput sequencing</td>\n",
       "      <td></td>\n",
       "      <td></td>\n",
       "      <td></td>\n",
       "      <td></td>\n",
       "      <td>2014/12/30</td>\n",
       "      <td>CSV</td>\n",
       "      <td>[{'Accession': 'GSM1536667', 'Title': 'LW04'}, {'Accession': 'GSM1536670', 'Title': 'LW07'}, {'A...</td>\n",
       "      <td>[]</td>\n",
       "      <td>[{'RelationType': 'SRA', 'TargetObject': 'SRP049475', 'TargetFTPLink': 'ftp://ftp-trace.ncbi.nlm...</td>\n",
       "      <td>13</td>\n",
       "      <td></td>\n",
       "      <td></td>\n",
       "      <td></td>\n",
       "      <td></td>\n",
       "      <td>[IntegerElement(25555215, attributes={})]</td>\n",
       "      <td>[]</td>\n",
       "      <td>ftp://ftp.ncbi.nlm.nih.gov/geo/series/GSE62nnn/GSE62936/</td>\n",
       "      <td>yes</td>\n",
       "    </tr>\n",
       "  </tbody>\n",
       "</table>\n",
       "</div>"
      ],
      "text/plain": [
       "   Item         Id Accession GDS  \\\n",
       "13   []  200062936  GSE62936       \n",
       "\n",
       "                                                         title  \\\n",
       "13  RNA-Seq Analysis in hES/ iPS cell-derived neuronal samples   \n",
       "\n",
       "                                                                                                summary  \\\n",
       "13  We characterized the gene expression by Hierarchical Clustering and one-matrix clustering in hES...   \n",
       "\n",
       "      GPL    GSE         taxon entryType  \\\n",
       "13  16791  62936  Homo sapiens       GSE   \n",
       "\n",
       "                                               gdsType ptechType valType  \\\n",
       "13  Expression profiling by high throughput sequencing                     \n",
       "\n",
       "   SSInfo subsetInfo        PDAT suppFile  \\\n",
       "13                    2014/12/30      CSV   \n",
       "\n",
       "                                                                                                Samples  \\\n",
       "13  [{'Accession': 'GSM1536667', 'Title': 'LW04'}, {'Accession': 'GSM1536670', 'Title': 'LW07'}, {'A...   \n",
       "\n",
       "   Relations  \\\n",
       "13        []   \n",
       "\n",
       "                                                                                           ExtRelations  \\\n",
       "13  [{'RelationType': 'SRA', 'TargetObject': 'SRP049475', 'TargetFTPLink': 'ftp://ftp-trace.ncbi.nlm...   \n",
       "\n",
       "    n_samples SeriesTitle PlatformTitle PlatformTaxa SamplesTaxa  \\\n",
       "13         13                                                      \n",
       "\n",
       "                                    PubMedIds Projects  \\\n",
       "13  [IntegerElement(25555215, attributes={})]       []   \n",
       "\n",
       "                                                     FTPLink GEO2R  \n",
       "13  ftp://ftp.ncbi.nlm.nih.gov/geo/series/GSE62nnn/GSE62936/   yes  "
      ]
     },
     "metadata": {},
     "output_type": "display_data"
    }
   ],
   "source": [
    "esummary = Entrez.esummary(db=\"gds\", id=\",\".join(geo_ids))\n",
    "esummary_results = Entrez.read(esummary)\n",
    "esummary.close()\n",
    "\n",
    "df_geo = pd.DataFrame(esummary_results)\n",
    "vp.print_dims(df_geo, show_rows=(-1, None))"
   ]
  },
  {
   "cell_type": "markdown",
   "id": "e9f136cd-4810-4937-9e63-4946a52da37b",
   "metadata": {},
   "source": [
    "## Clean GEO"
   ]
  },
  {
   "cell_type": "code",
   "execution_count": 8,
   "id": "f168e3a8-9fc6-46d4-b212-6d58d2d48c88",
   "metadata": {},
   "outputs": [],
   "source": [
    "# Aggregate sample info and PMIDs, which are nested\n",
    "sample_ids = {}\n",
    "sample_names = {}\n",
    "pmids = {}\n",
    "for r in esummary_results:\n",
    "    ncbi_id = r.get(\"Id\")\n",
    "    samples = r.get(\"Samples\")\n",
    "    df_samples = pd.DataFrame(samples)\n",
    "    \n",
    "    sample_id = \"|\".join(df_samples[\"Accession\"].tolist())\n",
    "    sample_ids[ncbi_id] = sample_id\n",
    "\n",
    "    sample_name = \"|\".join(df_samples[\"Title\"].tolist())\n",
    "    sample_names[ncbi_id] = sample_name\n",
    "\n",
    "    pmid = list(r.get(\"PubMedIds\", \"No PMID\"))\n",
    "    pmid = \"|\".join([str(int(i)) for i in pmid])\n",
    "    pmids[ncbi_id] = pmid"
   ]
  },
  {
   "cell_type": "code",
   "execution_count": 9,
   "id": "692a6df4-f6cb-4cb4-9a22-975dd30a2ee8",
   "metadata": {},
   "outputs": [
    {
     "name": "stdout",
     "output_type": "stream",
     "text": [
      "Wrote ../inputs/initial_search/2025-06-20-GEO_search.csv\n",
      "(14, 18)\n"
     ]
    },
    {
     "data": {
      "text/html": [
       "<div>\n",
       "<style scoped>\n",
       "    .dataframe tbody tr th:only-of-type {\n",
       "        vertical-align: middle;\n",
       "    }\n",
       "\n",
       "    .dataframe tbody tr th {\n",
       "        vertical-align: top;\n",
       "    }\n",
       "\n",
       "    .dataframe thead th {\n",
       "        text-align: right;\n",
       "    }\n",
       "</style>\n",
       "<table border=\"1\" class=\"dataframe\">\n",
       "  <thead>\n",
       "    <tr style=\"text-align: right;\">\n",
       "      <th></th>\n",
       "      <th>id</th>\n",
       "      <th>accession</th>\n",
       "      <th>link_to_geo</th>\n",
       "      <th>title</th>\n",
       "      <th>summary</th>\n",
       "      <th>gpl</th>\n",
       "      <th>gse</th>\n",
       "      <th>taxon</th>\n",
       "      <th>entrytype</th>\n",
       "      <th>gdstype</th>\n",
       "      <th>pdat</th>\n",
       "      <th>suppfile</th>\n",
       "      <th>n_samples</th>\n",
       "      <th>ftplink</th>\n",
       "      <th>geo2r</th>\n",
       "      <th>sample_ids</th>\n",
       "      <th>sample_names</th>\n",
       "      <th>pmids</th>\n",
       "    </tr>\n",
       "  </thead>\n",
       "  <tbody>\n",
       "    <tr>\n",
       "      <th>13</th>\n",
       "      <td>200062936</td>\n",
       "      <td>GSE62936</td>\n",
       "      <td>=HYPERLINK(\"https://www.ncbi.nlm.nih.gov/geo/query/acc.cgi?acc=GSE62936\",\"Link\")</td>\n",
       "      <td>RNA-Seq Analysis in hES/ iPS cell-derived neuronal samples</td>\n",
       "      <td>We characterized the gene expression by Hierarchical Clustering and one-matrix clustering in hES...</td>\n",
       "      <td>16791</td>\n",
       "      <td>62936</td>\n",
       "      <td>Homo sapiens</td>\n",
       "      <td>GSE</td>\n",
       "      <td>Expression profiling by high throughput sequencing</td>\n",
       "      <td>2014/12/30</td>\n",
       "      <td>CSV</td>\n",
       "      <td>13</td>\n",
       "      <td>ftp://ftp.ncbi.nlm.nih.gov/geo/series/GSE62nnn/GSE62936/</td>\n",
       "      <td>yes</td>\n",
       "      <td>GSM1536667|GSM1536670|GSM1536673|GSM1536676|GSM1536675|GSM1536672|GSM1536664|GSM1536669|GSM15366...</td>\n",
       "      <td>LW04|LW07|LW11|LW14|LW13|LW10|LW01|LW06|LW03|LW05|LW02|LW09|LW12</td>\n",
       "      <td>25555215</td>\n",
       "    </tr>\n",
       "  </tbody>\n",
       "</table>\n",
       "</div>"
      ],
      "text/plain": [
       "           id accession  \\\n",
       "13  200062936  GSE62936   \n",
       "\n",
       "                                                                         link_to_geo  \\\n",
       "13  =HYPERLINK(\"https://www.ncbi.nlm.nih.gov/geo/query/acc.cgi?acc=GSE62936\",\"Link\")   \n",
       "\n",
       "                                                         title  \\\n",
       "13  RNA-Seq Analysis in hES/ iPS cell-derived neuronal samples   \n",
       "\n",
       "                                                                                                summary  \\\n",
       "13  We characterized the gene expression by Hierarchical Clustering and one-matrix clustering in hES...   \n",
       "\n",
       "      gpl    gse         taxon entrytype  \\\n",
       "13  16791  62936  Homo sapiens       GSE   \n",
       "\n",
       "                                               gdstype        pdat suppfile  \\\n",
       "13  Expression profiling by high throughput sequencing  2014/12/30      CSV   \n",
       "\n",
       "    n_samples                                                   ftplink geo2r  \\\n",
       "13         13  ftp://ftp.ncbi.nlm.nih.gov/geo/series/GSE62nnn/GSE62936/   yes   \n",
       "\n",
       "                                                                                             sample_ids  \\\n",
       "13  GSM1536667|GSM1536670|GSM1536673|GSM1536676|GSM1536675|GSM1536672|GSM1536664|GSM1536669|GSM15366...   \n",
       "\n",
       "                                                        sample_names     pmids  \n",
       "13  LW04|LW07|LW11|LW14|LW13|LW10|LW01|LW06|LW03|LW05|LW02|LW09|LW12  25555215  "
      ]
     },
     "metadata": {},
     "output_type": "display_data"
    }
   ],
   "source": [
    "# Remove excess columns and add aggregated sample info and PMIDs\n",
    "geo_cols_to_rm = [\n",
    "    \"Item\",\"GDS\",\"ptechType\",\"valType\",\"SSInfo\",\"subsetInfo\",\"Relations\",\"ExtRelations\",\n",
    "    \"SeriesTitle\",\"PlatformTitle\",\"PlatformTaxa\",\"SamplesTaxa\",\"Projects\",\"Samples\",\"PubMedIds\"\n",
    "]\n",
    "geo_cols_to_rm = [c for c in df_geo.columns if c in geo_cols_to_rm]\n",
    "df_geo_clean = df_geo.drop(columns=geo_cols_to_rm)\n",
    "\n",
    "df_geo_clean = df_geo_clean.clean_names(remove_special=True, case_type=\"lower\")\n",
    "df_geo_clean[\"sample_ids\"] = df_geo_clean[\"id\"].map(sample_ids)\n",
    "df_geo_clean[\"sample_names\"] = df_geo_clean[\"id\"].map(sample_names)\n",
    "df_geo_clean[\"link_to_geo\"] = \"https://www.ncbi.nlm.nih.gov/geo/query/acc.cgi?acc=\" + df_geo_clean[\"accession\"]\n",
    "df_geo_clean[\"link_to_geo\"] = df_geo_clean[\"link_to_geo\"].apply(lambda x: f'=HYPERLINK(\"{x}\",\"Link\")')\n",
    "df_geo_clean[\"pmids\"] = df_geo_clean[\"id\"].map(pmids)\n",
    "\n",
    "df_geo_clean = df_geo_clean.move(source=[\"link_to_geo\"], target=\"accession\", position=\"after\", axis=1)\n",
    "\n",
    "# Write out\n",
    "geo_file_name = f'{datetime.now().strftime(\"%Y-%m-%d\")}-GEO_search'\n",
    "geo_file = os.path.join(search_path, f\"{geo_file_name}.csv\")\n",
    "\n",
    "vp.write_file(df_geo_clean, geo_file)\n",
    "vp.print_dims(df_geo_clean, show_rows=(-1, None))"
   ]
  },
  {
   "cell_type": "markdown",
   "id": "62014e2f-f2b6-4a8a-9428-9c95300cf9f4",
   "metadata": {},
   "source": [
    "# Alternative data sources\n",
    "- [recount3 (not used)](https://rna.recount.bio/): 9,000 human and 10,000 mouse studies uniformly processed with GTEx, TCGA, and SRA data"
   ]
  },
  {
   "cell_type": "markdown",
   "id": "3c43d9c8-63cc-4e84-a389-5ad67a7eb695",
   "metadata": {},
   "source": [
    "## Search SRA\n",
    "- **Note:** Some samples are in SRA but not in GEO\n",
    "- **Note:** Search returns one sample per row (not one study like GEO)"
   ]
  },
  {
   "cell_type": "code",
   "execution_count": 10,
   "id": "3faec328-32fc-409a-aabc-f8d3e4258256",
   "metadata": {},
   "outputs": [
    {
     "name": "stdout",
     "output_type": "stream",
     "text": [
      "Wrote ../inputs/initial_search/2025-06-20-SRA_search.csv\n",
      "(163, 36)\n"
     ]
    },
    {
     "data": {
      "text/html": [
       "<div>\n",
       "<style scoped>\n",
       "    .dataframe tbody tr th:only-of-type {\n",
       "        vertical-align: middle;\n",
       "    }\n",
       "\n",
       "    .dataframe tbody tr th {\n",
       "        vertical-align: top;\n",
       "    }\n",
       "\n",
       "    .dataframe thead th {\n",
       "        text-align: right;\n",
       "    }\n",
       "</style>\n",
       "<table border=\"1\" class=\"dataframe\">\n",
       "  <thead>\n",
       "    <tr style=\"text-align: right;\">\n",
       "      <th></th>\n",
       "      <th>run_accession</th>\n",
       "      <th>study_accession</th>\n",
       "      <th>study_title</th>\n",
       "      <th>experiment_accession</th>\n",
       "      <th>experiment_title</th>\n",
       "      <th>organism_taxid</th>\n",
       "      <th>organism_name</th>\n",
       "      <th>library_name</th>\n",
       "      <th>library_strategy</th>\n",
       "      <th>library_source</th>\n",
       "      <th>library_selection</th>\n",
       "      <th>library_layout</th>\n",
       "      <th>sample_accession</th>\n",
       "      <th>biosample</th>\n",
       "      <th>bioproject</th>\n",
       "      <th>instrument_model</th>\n",
       "      <th>run_total_spots</th>\n",
       "      <th>run_total_bases</th>\n",
       "      <th>tissue</th>\n",
       "      <th>cell_type</th>\n",
       "      <th>geo_loc_name</th>\n",
       "      <th>collection_date</th>\n",
       "      <th>isolate</th>\n",
       "      <th>age</th>\n",
       "      <th>sex</th>\n",
       "      <th>sex</th>\n",
       "      <th>replicate</th>\n",
       "      <th>cell_line</th>\n",
       "      <th>disease</th>\n",
       "      <th>sample_type</th>\n",
       "      <th>replicate</th>\n",
       "      <th>common_name</th>\n",
       "      <th>sample_name</th>\n",
       "      <th>patient_id</th>\n",
       "      <th>ena_fastq_http_1</th>\n",
       "      <th>ena_fastq_http_2</th>\n",
       "    </tr>\n",
       "  </thead>\n",
       "  <tbody>\n",
       "    <tr>\n",
       "      <th>0</th>\n",
       "      <td>ERR2162231</td>\n",
       "      <td>ERP104602</td>\n",
       "      <td>RNAseq analysis of fibroblasts, iPSC, iPSC derived RPE and retinal cells from retinitis pigmento...</td>\n",
       "      <td>ERX2218764</td>\n",
       "      <td>Illumina HiSeq 2500 paired end sequencing</td>\n",
       "      <td>9606</td>\n",
       "      <td>Homo sapiens</td>\n",
       "      <td>unspecified</td>\n",
       "      <td>RNA-Seq</td>\n",
       "      <td>TRANSCRIPTOMIC</td>\n",
       "      <td>DNase</td>\n",
       "      <td>PAIRED</td>\n",
       "      <td>ERS1960817</td>\n",
       "      <td>SAMEA104335839</td>\n",
       "      <td>PRJEB22885</td>\n",
       "      <td>Illumina HiSeq 2500</td>\n",
       "      <td>31153763</td>\n",
       "      <td>6253531827</td>\n",
       "      <td>None</td>\n",
       "      <td>fibroblast</td>\n",
       "      <td>None</td>\n",
       "      <td>None</td>\n",
       "      <td>None</td>\n",
       "      <td>None</td>\n",
       "      <td>None</td>\n",
       "      <td>None</td>\n",
       "      <td>None</td>\n",
       "      <td>None</td>\n",
       "      <td>PRPF31</td>\n",
       "      <td>None</td>\n",
       "      <td>None</td>\n",
       "      <td>human</td>\n",
       "      <td>PRPF31001</td>\n",
       "      <td>F116</td>\n",
       "      <td>http://ftp.sra.ebi.ac.uk/vol1/fastq/ERR216/001/ERR2162231/ERR2162231_1.fastq.gz</td>\n",
       "      <td>http://ftp.sra.ebi.ac.uk/vol1/fastq/ERR216/001/ERR2162231/ERR2162231_2.fastq.gz</td>\n",
       "    </tr>\n",
       "  </tbody>\n",
       "</table>\n",
       "</div>"
      ],
      "text/plain": [
       "  run_accession study_accession  \\\n",
       "0    ERR2162231       ERP104602   \n",
       "\n",
       "                                                                                           study_title  \\\n",
       "0  RNAseq analysis of fibroblasts, iPSC, iPSC derived RPE and retinal cells from retinitis pigmento...   \n",
       "\n",
       "  experiment_accession                           experiment_title  \\\n",
       "0           ERX2218764  Illumina HiSeq 2500 paired end sequencing   \n",
       "\n",
       "  organism_taxid organism_name library_name library_strategy  library_source  \\\n",
       "0           9606  Homo sapiens  unspecified          RNA-Seq  TRANSCRIPTOMIC   \n",
       "\n",
       "  library_selection library_layout sample_accession       biosample  \\\n",
       "0             DNase         PAIRED       ERS1960817  SAMEA104335839   \n",
       "\n",
       "   bioproject     instrument_model run_total_spots run_total_bases tissue  \\\n",
       "0  PRJEB22885  Illumina HiSeq 2500        31153763      6253531827   None   \n",
       "\n",
       "    cell_type geo_loc_name collection_date isolate   age   sex   sex  \\\n",
       "0  fibroblast         None            None    None  None  None  None   \n",
       "\n",
       "  replicate cell_line disease sample_type replicate common_name sample_name  \\\n",
       "0      None      None  PRPF31        None      None       human   PRPF31001   \n",
       "\n",
       "  patient_id  \\\n",
       "0       F116   \n",
       "\n",
       "                                                                  ena_fastq_http_1  \\\n",
       "0  http://ftp.sra.ebi.ac.uk/vol1/fastq/ERR216/001/ERR2162231/ERR2162231_1.fastq.gz   \n",
       "\n",
       "                                                                  ena_fastq_http_2  \n",
       "0  http://ftp.sra.ebi.ac.uk/vol1/fastq/ERR216/001/ERR2162231/ERR2162231_2.fastq.gz  "
      ]
     },
     "metadata": {},
     "output_type": "display_data"
    }
   ],
   "source": [
    "db = SRAweb()\n",
    "df_sra = db.search_sra(search_str=f'\"{query_term}\"', assay=True,detailed=True,\n",
    "                       sample_attribute=True, expand_sample_attributes=True, output_read_lengths=True)\n",
    "\n",
    "# Filter to species and data types of interest \n",
    "df_sra = df_sra[df_sra[\"organism_name\"]==f\"{species}\"].reset_index(drop=True)\n",
    "df_sra = df_sra[df_sra.library_strategy.isin(sra_data_types)].reset_index(drop=True)\n",
    "\n",
    "# Filter to studies with control samples\n",
    "sra_control_studies = df_sra[df_sra.disease.isin([\"Control\",\"normal\"])].study_accession.unique().tolist()\n",
    "df_sra = df_sra[df_sra.study_accession.isin(sra_control_studies)]\n",
    "\n",
    "# Filter to studies with at least n_samples\n",
    "sra_powered_studies = df_sra.study_accession.value_counts()\n",
    "sra_powered_studies = sra_powered_studies[sra_powered_studies > int(n_samples.split(\":\")[0])].index.tolist()\n",
    "df_sra = df_sra[df_sra.study_accession.isin(sra_powered_studies)]\n",
    "\n",
    "# Remove excess columns and clean\n",
    "sra_cols_to_keep = [\n",
    "    \"study_accession\",\"study_title\",\"run_accession\",\"sample_accession\",\"sample name\",\"biosample\",\n",
    "    \"bioproject\",\"phenotype\",\"experiment_title\",\"experiment_accession\",\"instrument_model\",\"patient id\",\n",
    "    \"organism_taxid\",\"organism_name\",\"library_name\",\"library_strategy\",\"library_source\",\n",
    "    \"library_selection\",\"library_layout\",\"run_total_spots\",\"run_total_bases\",\"source_name\",\"tissue\",\n",
    "    \"cell type\",\"genotype\",\"treatment\",\"geo_loc_name\",\"collection_date\",\"cell line\",\"isolate\",\"age\",\n",
    "    \"sex\",\"replicate\",\"cell_line\",\"disease\",\"sample_type\",\"common name\",\"disease state\",\"time\",\n",
    "    \"ena_fastq_http\",\"ena_fastq_http_1\",\"ena_fastq_http_2\"\n",
    "]\n",
    "sra_cols_to_keep = [c for c in df_sra.columns if c in sra_cols_to_keep]\n",
    "df_sra = df_sra[sra_cols_to_keep]\n",
    "\n",
    "df_sra = df_sra.clean_names(remove_special=True, case_type=\"lower\")\n",
    "df_sra = df_sra.dropna(axis=1, how=\"all\").replace({pd.NA: None})  # Remove columns with all NAs\n",
    "\n",
    "# Write out\n",
    "sra_file_name = f'{datetime.now().strftime(\"%Y-%m-%d\")}-SRA_search'\n",
    "sra_file = os.path.join(search_path, f\"{sra_file_name}.csv\")\n",
    "\n",
    "vp.write_file(df_sra, sra_file)\n",
    "vp.print_dims(df_sra, show_rows=(None,1))"
   ]
  },
  {
   "cell_type": "markdown",
   "id": "ca20ecb0-680d-46c6-bc26-8fc62a38ed42",
   "metadata": {},
   "source": [
    "## Search ENA"
   ]
  },
  {
   "cell_type": "code",
   "execution_count": 11,
   "id": "931f007b-1abc-420c-a17c-5849c8de6a71",
   "metadata": {},
   "outputs": [
    {
     "name": "stdout",
     "output_type": "stream",
     "text": [
      "Wrote ../inputs/initial_search/2025-06-20-ENA_search.csv\n",
      "(10, 15)\n"
     ]
    },
    {
     "data": {
      "text/html": [
       "<div>\n",
       "<style scoped>\n",
       "    .dataframe tbody tr th:only-of-type {\n",
       "        vertical-align: middle;\n",
       "    }\n",
       "\n",
       "    .dataframe tbody tr th {\n",
       "        vertical-align: top;\n",
       "    }\n",
       "\n",
       "    .dataframe thead th {\n",
       "        text-align: right;\n",
       "    }\n",
       "</style>\n",
       "<table border=\"1\" class=\"dataframe\">\n",
       "  <thead>\n",
       "    <tr style=\"text-align: right;\">\n",
       "      <th></th>\n",
       "      <th>study_accession</th>\n",
       "      <th>experiment_accession</th>\n",
       "      <th>experiment_title</th>\n",
       "      <th>description</th>\n",
       "      <th>tax_id</th>\n",
       "      <th>scientific_name</th>\n",
       "      <th>library_strategy</th>\n",
       "      <th>library_source</th>\n",
       "      <th>library_selection</th>\n",
       "      <th>sample_accession</th>\n",
       "      <th>sample_title</th>\n",
       "      <th>instrument_model</th>\n",
       "      <th>run_accession</th>\n",
       "      <th>read_count</th>\n",
       "      <th>base_count</th>\n",
       "    </tr>\n",
       "  </thead>\n",
       "  <tbody>\n",
       "    <tr>\n",
       "      <th>0</th>\n",
       "      <td>PRJEB48601</td>\n",
       "      <td>ERX6798797</td>\n",
       "      <td>NextSeq 500 sequencing: Retinitis pigmentosa-linked mutation in DHX38 modulates its splicing act...</td>\n",
       "      <td>NextSeq 500 sequencing: Retinitis pigmentosa-linked mutation in DHX38 modulates its splicing act...</td>\n",
       "      <td>9606</td>\n",
       "      <td>Homo sapiens</td>\n",
       "      <td>RNA-Seq</td>\n",
       "      <td>TRANSCRIPTOMIC</td>\n",
       "      <td>cDNA_randomPriming</td>\n",
       "      <td>SAMEA10774731</td>\n",
       "      <td>DHX38_3</td>\n",
       "      <td>NextSeq 500</td>\n",
       "      <td>ERR7229434</td>\n",
       "      <td>75095552</td>\n",
       "      <td>5597285638</td>\n",
       "    </tr>\n",
       "  </tbody>\n",
       "</table>\n",
       "</div>"
      ],
      "text/plain": [
       "  study_accession experiment_accession  \\\n",
       "0      PRJEB48601           ERX6798797   \n",
       "\n",
       "                                                                                      experiment_title  \\\n",
       "0  NextSeq 500 sequencing: Retinitis pigmentosa-linked mutation in DHX38 modulates its splicing act...   \n",
       "\n",
       "                                                                                           description  \\\n",
       "0  NextSeq 500 sequencing: Retinitis pigmentosa-linked mutation in DHX38 modulates its splicing act...   \n",
       "\n",
       "  tax_id scientific_name library_strategy  library_source   library_selection  \\\n",
       "0   9606    Homo sapiens          RNA-Seq  TRANSCRIPTOMIC  cDNA_randomPriming   \n",
       "\n",
       "  sample_accession sample_title instrument_model run_accession read_count  \\\n",
       "0    SAMEA10774731      DHX38_3      NextSeq 500    ERR7229434   75095552   \n",
       "\n",
       "   base_count  \n",
       "0  5597285638  "
      ]
     },
     "metadata": {},
     "output_type": "display_data"
    }
   ],
   "source": [
    "ena_search = EnaSearch(return_max=1000, query=ena_query_term)\n",
    "ena_search.search()\n",
    "df_ena = ena_search.get_df()\n",
    "\n",
    "# Filter to species and data types of interest \n",
    "df_ena = df_ena[df_ena.scientific_name==f\"{species}\"].reset_index(drop=True)\n",
    "df_ena = df_ena[df_ena.library_strategy.isin(sra_data_types)].reset_index(drop=True)\n",
    "df_ena = df_ena.dropna(axis=1, how=\"all\")\n",
    "\n",
    "# Write out\n",
    "ena_file_name = f'{datetime.now().strftime(\"%Y-%m-%d\")}-ENA_search'\n",
    "ena_file = os.path.join(search_path, f\"{ena_file_name}.csv\")\n",
    "\n",
    "vp.write_file(df_ena, ena_file)\n",
    "vp.print_dims(df_ena, show_rows=(None,1))"
   ]
  },
  {
   "cell_type": "markdown",
   "id": "5c226550-dc84-4dec-b0f6-40422e3eef45",
   "metadata": {},
   "source": [
    "## Search ExpressionAtlas\n",
    "Since there are not a lot of studies here, we can search this through the web browser - [bulkEA](https://www.ebi.ac.uk/gxa/experiments?species=Homo+sapien) + [scEA](https://www.ebi.ac.uk/gxa/sc/experiments?species=%22homo+sapiens%22)\n",
    "- Queries can be either in a baseline context, e.g. find genes expressed in the macaque brain, or in a differential context, e.g. find genes that are up or downregulated in response to auxin in Arabidopsis\n",
    "- All studies are manually curated and annotated with ontology terms, checked for high quality and re-analysed using standardised methods"
   ]
  },
  {
   "cell_type": "code",
   "execution_count": 12,
   "id": "5ac084b8-476b-4d5d-9791-b5c3f8c5b612",
   "metadata": {},
   "outputs": [
    {
     "name": "stdout",
     "output_type": "stream",
     "text": [
      "Use web browser\n"
     ]
    }
   ],
   "source": [
    "print(\"Use web browser\")"
   ]
  },
  {
   "cell_type": "markdown",
   "id": "9b41b52f-c474-4ed8-bcd7-86399799d99b",
   "metadata": {},
   "source": [
    "## Search DISCO\n",
    "- **Note:** [DISCO](https://disco.bii.a-star.edu.sg/) is one of the best resources for scRNAseq data. Also see [SCimilarity](https://genentech.github.io/scimilarity/index.html)."
   ]
  },
  {
   "cell_type": "code",
   "execution_count": null,
   "id": "4e9c6bba-9a15-4494-be01-9c21f29aabf7",
   "metadata": {},
   "outputs": [],
   "source": []
  },
  {
   "cell_type": "markdown",
   "id": "75b52c8a-0eaf-4356-b045-a31abeab5088",
   "metadata": {},
   "source": [
    "# Write to Excel\n",
    "- **Note:** Each tab must be created and formatted first before writing them out together as an Excel file"
   ]
  },
  {
   "cell_type": "code",
   "execution_count": 14,
   "id": "c5931796-1856-4626-818a-c57a1971c49c",
   "metadata": {},
   "outputs": [
    {
     "name": "stdout",
     "output_type": "stream",
     "text": [
      "Wrote *** ../results/2025-06-20_Public_Studies_Initial_Search.xlsx ***\n"
     ]
    }
   ],
   "source": [
    "excel_file_name = f'{datetime.now().strftime(\"%Y-%m-%d\")}_Public_Studies_Initial_Search'\n",
    "excel_file = os.path.join(\"./\", f\"{excel_file_name}.xlsx\")\n",
    "\n",
    "geo_headers = vp.get_headers(df_geo_clean, colors=[\"F7FFBF\"])\n",
    "wb = vp.create_excel_tab(\n",
    "        df_geo_clean,\n",
    "        geo_headers,\n",
    "        tab_name=\"GEO\",\n",
    "        out_file=None,\n",
    "        previous_workbook=None,\n",
    "        template_file=None,\n",
    "        freeze_cell=\"A2\",\n",
    "        row_to_group=None,\n",
    "        cnd_format_dict={\"link_to_geo\": \"link-0000FF-single\"})\n",
    "\n",
    "sra_headers = vp.get_headers(df_sra, colors=[\"F7FFBF\"])\n",
    "wb = vp.create_excel_tab(\n",
    "        df_sra,\n",
    "        sra_headers,\n",
    "        tab_name=\"SRA\",\n",
    "        out_file=None,\n",
    "        previous_workbook=wb,\n",
    "        template_file=None,\n",
    "        freeze_cell=\"A2\",\n",
    "        row_to_group=None,\n",
    "        cnd_format_dict=None)\n",
    "\n",
    "ena_headers = vp.get_headers(df_ena, colors=[\"F7FFBF\"])\n",
    "wb = vp.create_excel_tab(\n",
    "        df_ena,\n",
    "        ena_headers,\n",
    "        tab_name=\"ENA\",\n",
    "        out_file=excel_file,\n",
    "        previous_workbook=wb,\n",
    "        template_file=None,\n",
    "        freeze_cell=\"A2\",\n",
    "        row_to_group=None,\n",
    "        cnd_format_dict=None)"
   ]
  },
  {
   "cell_type": "markdown",
   "id": "5efb2850-d180-40c9-bbfb-149b95b457da",
   "metadata": {},
   "source": [
    "# Session info"
   ]
  },
  {
   "cell_type": "code",
   "execution_count": 3,
   "id": "14d23bc8-f605-46a8-9acc-4ea68c7baed2",
   "metadata": {},
   "outputs": [
    {
     "data": {
      "text/html": [
       "<details>\n",
       "<summary>Click to view session information</summary>\n",
       "<pre>\n",
       "-----\n",
       "Bio                 1.78\n",
       "GEOparse            2.0.4\n",
       "VinlandPy           NA\n",
       "janitor             0.27.0\n",
       "numpy               1.26.4\n",
       "pandas              2.2.2\n",
       "pysradb             2.2.2\n",
       "session_info        1.0.0\n",
       "-----\n",
       "IPython             8.25.0\n",
       "jupyter_client      8.6.2\n",
       "jupyter_core        5.5.0\n",
       "jupyterlab          4.2.2\n",
       "-----\n",
       "Python 3.12.3 | packaged by Anaconda, Inc. | (main, May  6 2024, 19:46:43) [GCC 11.2.0]\n",
       "Linux-6.8.0-1032-gcp-x86_64-with-glibc2.35\n",
       "-----\n",
       "Session information updated at 2025-07-16 20:07\n",
       "</pre>\n",
       "</details>"
      ],
      "text/plain": [
       "<IPython.core.display.HTML object>"
      ]
     },
     "execution_count": 3,
     "metadata": {},
     "output_type": "execute_result"
    }
   ],
   "source": [
    "session_info.show(os=True, std_lib=False, dependencies=False)"
   ]
  }
 ],
 "metadata": {
  "kernelspec": {
   "display_name": "Py-3.12",
   "language": "python",
   "name": "py-3.12"
  },
  "language_info": {
   "codemirror_mode": {
    "name": "ipython",
    "version": 3
   },
   "file_extension": ".py",
   "mimetype": "text/x-python",
   "name": "python",
   "nbconvert_exporter": "python",
   "pygments_lexer": "ipython3",
   "version": "3.12.3"
  }
 },
 "nbformat": 4,
 "nbformat_minor": 5
}
