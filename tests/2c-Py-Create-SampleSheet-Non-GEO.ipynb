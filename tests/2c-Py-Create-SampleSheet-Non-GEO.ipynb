{
 "cells": [
  {
   "cell_type": "markdown",
   "id": "81f1122d-fcf5-4716-b6ae-67aa6181ecb6",
   "metadata": {
    "editable": true,
    "slideshow": {
     "slide_type": ""
    },
    "tags": []
   },
   "source": [
    "# Goals\n",
    "**[Script]** Select GEO studies from the intitial batch based on favorable study traits:\n",
    "- **Sufficiently powered (n>4 per group)**\n",
    "- **Control/Normal/Healthy samples**\n",
    "- **Sufficient sequencing depth (check spots)**\n",
    "- **Correct species, tissue/cell type, and data type**\n",
    "\n",
    "**[Selected studies]:** GSE165322, GSE206529, [ERP104602], [GSE236566]\n",
    "- **ERP104602:**\n",
    "\n",
    "**[Note] Although this study is not in GEO, all metadata can still be obtained from `pysradb` and `ffq`** "
   ]
  },
  {
   "cell_type": "markdown",
   "id": "16183fd8-8c15-4ebb-aa15-c04e9a4f57f0",
   "metadata": {},
   "source": [
    "# Packages"
   ]
  },
  {
   "cell_type": "code",
   "execution_count": 3,
   "id": "0b748716-39ef-4d48-9a4c-fb199e776998",
   "metadata": {},
   "outputs": [],
   "source": [
    "#########################\n",
    "### Standard Library ####\n",
    "#########################\n",
    "import os\n",
    "import re\n",
    "import sys\n",
    "import json\n",
    "import math\n",
    "import warnings\n",
    "import subprocess\n",
    "from glob import glob\n",
    "from datetime import datetime\n",
    "from concurrent.futures import ThreadPoolExecutor\n",
    "\n",
    "#####################\n",
    "### Data Cleaning ###\n",
    "#####################\n",
    "import numpy as np\n",
    "import pandas as pd\n",
    "import janitor as jn\n",
    "import VinlandPy as vp\n",
    "\n",
    "###################\n",
    "### Public Data ###\n",
    "###################\n",
    "import ffq\n",
    "import GEOparse\n",
    "from pysradb.sraweb import SRAweb\n",
    "\n",
    "####################\n",
    "### Session Info ###\n",
    "####################\n",
    "import session_info"
   ]
  },
  {
   "cell_type": "markdown",
   "id": "e0f43b6f-e281-44b5-b8e4-de8eee4d9820",
   "metadata": {},
   "source": [
    "## Options"
   ]
  },
  {
   "cell_type": "code",
   "execution_count": null,
   "id": "f42f80cd-e57e-4c9f-9202-f66afb848048",
   "metadata": {},
   "outputs": [],
   "source": [
    "warnings.simplefilter(action=\"once\", category=Warning)\n",
    "\n",
    "pd.options.display.max_columns = 200\n",
    "pd.options.display.max_colwidth = 100\n",
    "pd.options.display.max_rows = 200"
   ]
  },
  {
   "cell_type": "markdown",
   "id": "bcc7d23d-6aa4-4bd7-beba-99a106199fe8",
   "metadata": {},
   "source": [
    "## Functions"
   ]
  },
  {
   "cell_type": "code",
   "execution_count": null,
   "id": "c6a8a856-ded4-4b7c-a332-87a4c52b171a",
   "metadata": {},
   "outputs": [],
   "source": []
  },
  {
   "cell_type": "markdown",
   "id": "d7917d32-960f-47c9-8e0a-8b2c91e0f9a4",
   "metadata": {},
   "source": [
    "# Parameters"
   ]
  },
  {
   "cell_type": "markdown",
   "id": "1d095ffd-9649-4a58-98b6-18f239fbbefe",
   "metadata": {},
   "source": [
    "## Inputs"
   ]
  },
  {
   "cell_type": "code",
   "execution_count": null,
   "id": "8f52d931-217f-4fb8-95cf-cbb5e4cb8929",
   "metadata": {},
   "outputs": [],
   "source": [
    "genome_build = \"GRCh38\"\n",
    "release_version = \"ensembl.111\"\n",
    "\n",
    "r1_suffix = \"\"  # _1.fastq.gz\n",
    "r2_suffix = \"\"  # _2.fastq.gz"
   ]
  },
  {
   "cell_type": "markdown",
   "id": "9c448a41-fe1a-4c25-86ae-8f13a2c510c1",
   "metadata": {},
   "source": [
    "## Outputs"
   ]
  },
  {
   "cell_type": "code",
   "execution_count": null,
   "id": "4b85cb33-6653-4e27-9360-c03f8e446742",
   "metadata": {},
   "outputs": [],
   "source": [
    "input_path = vp.createDir(\"./inputs\")\n",
    "# gse_path = vp.createDir(os.path.join(input_path, geo_id))"
   ]
  },
  {
   "cell_type": "code",
   "execution_count": null,
   "id": "fb410f72-904c-4561-a1db-d75c20b75483",
   "metadata": {},
   "outputs": [],
   "source": [
    "bio_project_id = \"PRJEB22885\"\n",
    "sra_id = \"ERP104602\""
   ]
  },
  {
   "cell_type": "markdown",
   "id": "03698bb8-1812-446c-8153-2cbf2f7054f6",
   "metadata": {},
   "source": [
    "# Clean metadata\n",
    "- Each study has a base set of columns to keep plus some additional columns we may want to add\n",
    "- **Note:** Clean each study one at a time to ensure all desired metadata is collected"
   ]
  },
  {
   "cell_type": "markdown",
   "id": "91436072-421f-416d-8e67-5fc9ceef784d",
   "metadata": {},
   "source": [
    "# Add metadata\n",
    "- **Note:** `ffq` has access to all GEO/SRA/EMBL/DDBJ/ENCODE files"
   ]
  },
  {
   "cell_type": "markdown",
   "id": "314aa424-9004-4c13-a236-b60bca06619f",
   "metadata": {},
   "source": [
    "### `pysradb`\n",
    "- **Note:** The GEO sample IDs do not have a dedicated column, and can be found in weird places"
   ]
  },
  {
   "cell_type": "code",
   "execution_count": null,
   "id": "770fce73-6b4a-47e1-8f0c-15ca7dd94b7b",
   "metadata": {},
   "outputs": [],
   "source": [
    "db = SRAweb()\n",
    "df_sra = db.srp_to_srx(sra_id)  # Same as sra_metadata()\n",
    "\n",
    "sra_base_cols_to_keep = [\"study_accession\", \"run_accession\", \"library_layout\", \"run_total_spots\", \"run_total_bases\"]\n",
    "\n",
    "vp.printDims(df_sra.reorder_columns(sra_base_cols_to_keep), showRows=(None, 1))"
   ]
  },
  {
   "cell_type": "markdown",
   "id": "09b6b7fa-066b-4be2-80fc-329cd9ab3c8e",
   "metadata": {},
   "source": [
    "# Session info"
   ]
  },
  {
   "cell_type": "code",
   "execution_count": 4,
   "id": "d5cdba02-af4a-46a6-b183-b1814fb7b2ab",
   "metadata": {},
   "outputs": [
    {
     "data": {
      "text/html": [
       "<details>\n",
       "<summary>Click to view session information</summary>\n",
       "<pre>\n",
       "-----\n",
       "GEOparse            2.0.4\n",
       "VinlandPy           NA\n",
       "ffq                 0.3.1\n",
       "janitor             0.27.0\n",
       "numpy               1.26.4\n",
       "pandas              2.2.2\n",
       "pysradb             2.2.2\n",
       "session_info        1.0.0\n",
       "-----\n",
       "IPython             8.25.0\n",
       "jupyter_client      8.6.2\n",
       "jupyter_core        5.5.0\n",
       "jupyterlab          4.2.2\n",
       "-----\n",
       "Python 3.12.3 | packaged by Anaconda, Inc. | (main, May  6 2024, 19:46:43) [GCC 11.2.0]\n",
       "Linux-6.8.0-1032-gcp-x86_64-with-glibc2.35\n",
       "-----\n",
       "Session information updated at 2025-07-16 17:35\n",
       "</pre>\n",
       "</details>"
      ],
      "text/plain": [
       "<IPython.core.display.HTML object>"
      ]
     },
     "execution_count": 4,
     "metadata": {},
     "output_type": "execute_result"
    }
   ],
   "source": [
    "session_info.show(os=True, std_lib=False, dependencies=False)"
   ]
  }
 ],
 "metadata": {
  "kernelspec": {
   "display_name": "Py-3.12",
   "language": "python",
   "name": "py-3.12"
  },
  "language_info": {
   "codemirror_mode": {
    "name": "ipython",
    "version": 3
   },
   "file_extension": ".py",
   "mimetype": "text/x-python",
   "name": "python",
   "nbconvert_exporter": "python",
   "pygments_lexer": "ipython3",
   "version": "3.12.3"
  }
 },
 "nbformat": 4,
 "nbformat_minor": 5
}
